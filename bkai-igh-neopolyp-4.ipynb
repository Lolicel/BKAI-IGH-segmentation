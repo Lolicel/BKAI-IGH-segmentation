{
 "cells": [
  {
   "cell_type": "code",
   "execution_count": 1,
   "id": "2d120c03",
   "metadata": {
    "execution": {
     "iopub.execute_input": "2024-03-07T04:10:47.032497Z",
     "iopub.status.busy": "2024-03-07T04:10:47.031457Z",
     "iopub.status.idle": "2024-03-07T04:11:11.684613Z",
     "shell.execute_reply": "2024-03-07T04:11:11.683569Z"
    },
    "papermill": {
     "duration": 24.676189,
     "end_time": "2024-03-07T04:11:11.687368",
     "exception": false,
     "start_time": "2024-03-07T04:10:47.011179",
     "status": "completed"
    },
    "scrolled": true,
    "tags": []
   },
   "outputs": [
    {
     "name": "stdout",
     "output_type": "stream",
     "text": [
      "Collecting torchsummary\r\n",
      "  Obtaining dependency information for torchsummary from https://files.pythonhosted.org/packages/7d/18/1474d06f721b86e6a9b9d7392ad68bed711a02f3b61ac43f13c719db50a6/torchsummary-1.5.1-py3-none-any.whl.metadata\r\n",
      "  Downloading torchsummary-1.5.1-py3-none-any.whl.metadata (296 bytes)\r\n",
      "Downloading torchsummary-1.5.1-py3-none-any.whl (2.8 kB)\r\n",
      "Installing collected packages: torchsummary\r\n",
      "Successfully installed torchsummary-1.5.1\r\n",
      "Collecting torchgeometry\r\n",
      "  Obtaining dependency information for torchgeometry from https://files.pythonhosted.org/packages/a6/d6/3f6820c0589bc3876080c59b58a3bad11af746a7b46f364b1cde7972bd72/torchgeometry-0.1.2-py2.py3-none-any.whl.metadata\r\n",
      "  Downloading torchgeometry-0.1.2-py2.py3-none-any.whl.metadata (2.9 kB)\r\n",
      "Requirement already satisfied: torch>=1.0.0 in /opt/conda/lib/python3.10/site-packages (from torchgeometry) (2.0.0)\r\n",
      "Requirement already satisfied: filelock in /opt/conda/lib/python3.10/site-packages (from torch>=1.0.0->torchgeometry) (3.12.2)\r\n",
      "Requirement already satisfied: typing-extensions in /opt/conda/lib/python3.10/site-packages (from torch>=1.0.0->torchgeometry) (4.5.0)\r\n",
      "Requirement already satisfied: sympy in /opt/conda/lib/python3.10/site-packages (from torch>=1.0.0->torchgeometry) (1.12)\r\n",
      "Requirement already satisfied: networkx in /opt/conda/lib/python3.10/site-packages (from torch>=1.0.0->torchgeometry) (3.1)\r\n",
      "Requirement already satisfied: jinja2 in /opt/conda/lib/python3.10/site-packages (from torch>=1.0.0->torchgeometry) (3.1.2)\r\n",
      "Requirement already satisfied: MarkupSafe>=2.0 in /opt/conda/lib/python3.10/site-packages (from jinja2->torch>=1.0.0->torchgeometry) (2.1.3)\r\n",
      "Requirement already satisfied: mpmath>=0.19 in /opt/conda/lib/python3.10/site-packages (from sympy->torch>=1.0.0->torchgeometry) (1.3.0)\r\n",
      "Downloading torchgeometry-0.1.2-py2.py3-none-any.whl (42 kB)\r\n",
      "\u001b[2K   \u001b[90m━━━━━━━━━━━━━━━━━━━━━━━━━━━━━━━━━━━━━━━━\u001b[0m \u001b[32m42.7/42.7 kB\u001b[0m \u001b[31m4.5 MB/s\u001b[0m eta \u001b[36m0:00:00\u001b[0m\r\n",
      "\u001b[?25hInstalling collected packages: torchgeometry\r\n",
      "Successfully installed torchgeometry-0.1.2\r\n"
     ]
    }
   ],
   "source": [
    "!pip install torchsummary\n",
    "!pip install torchgeometry"
   ]
  },
  {
   "cell_type": "code",
   "execution_count": 2,
   "id": "cc7a4fe5",
   "metadata": {
    "_cell_guid": "b1076dfc-b9ad-4769-8c92-a6c4dae69d19",
    "_uuid": "8f2839f25d086af736a60e9eeb907d3b93b6e0e5",
    "execution": {
     "iopub.execute_input": "2024-03-07T04:11:11.728443Z",
     "iopub.status.busy": "2024-03-07T04:11:11.728105Z",
     "iopub.status.idle": "2024-03-07T04:11:16.960039Z",
     "shell.execute_reply": "2024-03-07T04:11:16.959120Z"
    },
    "papermill": {
     "duration": 5.254922,
     "end_time": "2024-03-07T04:11:16.962382",
     "exception": false,
     "start_time": "2024-03-07T04:11:11.707460",
     "status": "completed"
    },
    "tags": []
   },
   "outputs": [],
   "source": [
    "from torchsummary import summary\n",
    "from torchgeometry.losses import one_hot\n",
    "import os\n",
    "import pandas as pd\n",
    "import numpy as np\n",
    "from PIL import Image\n",
    "import cv2\n",
    "import time\n",
    "import imageio\n",
    "import matplotlib.pyplot as plt\n",
    "import time\n",
    "import torch\n",
    "import torch.nn as nn\n",
    "import torch.nn.functional as F\n",
    "import torch.optim as optim\n",
    "from torch.optim import lr_scheduler\n",
    "from torch import Tensor\n",
    "from torch.utils.data import Dataset, DataLoader, random_split\n",
    "from torchvision.transforms import Resize, PILToTensor, ToPILImage, Compose, InterpolationMode\n",
    "from collections import OrderedDict\n",
    "import wandb"
   ]
  },
  {
   "cell_type": "code",
   "execution_count": 3,
   "id": "a4405008",
   "metadata": {
    "execution": {
     "iopub.execute_input": "2024-03-07T04:11:17.003650Z",
     "iopub.status.busy": "2024-03-07T04:11:17.003357Z",
     "iopub.status.idle": "2024-03-07T04:11:17.007188Z",
     "shell.execute_reply": "2024-03-07T04:11:17.006345Z"
    },
    "papermill": {
     "duration": 0.027189,
     "end_time": "2024-03-07T04:11:17.009149",
     "exception": false,
     "start_time": "2024-03-07T04:11:16.981960",
     "status": "completed"
    },
    "tags": []
   },
   "outputs": [],
   "source": [
    "# !pip install ternausnet"
   ]
  },
  {
   "cell_type": "code",
   "execution_count": 4,
   "id": "9d729fa2",
   "metadata": {
    "execution": {
     "iopub.execute_input": "2024-03-07T04:11:17.048731Z",
     "iopub.status.busy": "2024-03-07T04:11:17.048475Z",
     "iopub.status.idle": "2024-03-07T04:11:17.052082Z",
     "shell.execute_reply": "2024-03-07T04:11:17.051197Z"
    },
    "papermill": {
     "duration": 0.025757,
     "end_time": "2024-03-07T04:11:17.054050",
     "exception": false,
     "start_time": "2024-03-07T04:11:17.028293",
     "status": "completed"
    },
    "tags": []
   },
   "outputs": [],
   "source": [
    "# import ternausnet"
   ]
  },
  {
   "cell_type": "code",
   "execution_count": 5,
   "id": "1c144b87",
   "metadata": {
    "execution": {
     "iopub.execute_input": "2024-03-07T04:11:17.093497Z",
     "iopub.status.busy": "2024-03-07T04:11:17.093247Z",
     "iopub.status.idle": "2024-03-07T04:11:17.096752Z",
     "shell.execute_reply": "2024-03-07T04:11:17.096037Z"
    },
    "papermill": {
     "duration": 0.02541,
     "end_time": "2024-03-07T04:11:17.098672",
     "exception": false,
     "start_time": "2024-03-07T04:11:17.073262",
     "status": "completed"
    },
    "tags": []
   },
   "outputs": [],
   "source": [
    "# print(dir(ternausnet.models.models))"
   ]
  },
  {
   "cell_type": "code",
   "execution_count": 6,
   "id": "8ce1eb58",
   "metadata": {
    "execution": {
     "iopub.execute_input": "2024-03-07T04:11:17.138434Z",
     "iopub.status.busy": "2024-03-07T04:11:17.138148Z",
     "iopub.status.idle": "2024-03-07T04:11:17.141745Z",
     "shell.execute_reply": "2024-03-07T04:11:17.140979Z"
    },
    "papermill": {
     "duration": 0.025655,
     "end_time": "2024-03-07T04:11:17.143505",
     "exception": false,
     "start_time": "2024-03-07T04:11:17.117850",
     "status": "completed"
    },
    "tags": []
   },
   "outputs": [],
   "source": [
    "# from ternausnet.models import UNet16"
   ]
  },
  {
   "cell_type": "code",
   "execution_count": 7,
   "id": "14cb1550",
   "metadata": {
    "execution": {
     "iopub.execute_input": "2024-03-07T04:11:17.183751Z",
     "iopub.status.busy": "2024-03-07T04:11:17.183493Z",
     "iopub.status.idle": "2024-03-07T04:11:18.146144Z",
     "shell.execute_reply": "2024-03-07T04:11:18.144864Z"
    },
    "papermill": {
     "duration": 0.985723,
     "end_time": "2024-03-07T04:11:18.148890",
     "exception": false,
     "start_time": "2024-03-07T04:11:17.163167",
     "status": "completed"
    },
    "tags": []
   },
   "outputs": [
    {
     "name": "stdout",
     "output_type": "stream",
     "text": [
      "GPU 0: Tesla P100-PCIE-16GB (UUID: GPU-f577a38b-2421-0829-b22a-3213e658e5b1)\r\n"
     ]
    }
   ],
   "source": [
    "!nvidia-smi -L"
   ]
  },
  {
   "cell_type": "code",
   "execution_count": 8,
   "id": "3e1ede90",
   "metadata": {
    "execution": {
     "iopub.execute_input": "2024-03-07T04:11:18.192864Z",
     "iopub.status.busy": "2024-03-07T04:11:18.192483Z",
     "iopub.status.idle": "2024-03-07T04:11:18.241416Z",
     "shell.execute_reply": "2024-03-07T04:11:18.240541Z"
    },
    "papermill": {
     "duration": 0.072693,
     "end_time": "2024-03-07T04:11:18.243337",
     "exception": false,
     "start_time": "2024-03-07T04:11:18.170644",
     "status": "completed"
    },
    "tags": []
   },
   "outputs": [
    {
     "data": {
      "text/plain": [
       "device(type='cuda')"
      ]
     },
     "execution_count": 8,
     "metadata": {},
     "output_type": "execute_result"
    }
   ],
   "source": [
    "device = torch.device(\"cuda\" if torch.cuda.is_available() else \"cpu\")\n",
    "device"
   ]
  },
  {
   "cell_type": "code",
   "execution_count": 9,
   "id": "6534f257",
   "metadata": {
    "execution": {
     "iopub.execute_input": "2024-03-07T04:11:18.323828Z",
     "iopub.status.busy": "2024-03-07T04:11:18.323471Z",
     "iopub.status.idle": "2024-03-07T04:11:36.861861Z",
     "shell.execute_reply": "2024-03-07T04:11:36.860856Z"
    },
    "papermill": {
     "duration": 18.561274,
     "end_time": "2024-03-07T04:11:36.864228",
     "exception": false,
     "start_time": "2024-03-07T04:11:18.302954",
     "status": "completed"
    },
    "tags": []
   },
   "outputs": [
    {
     "name": "stdout",
     "output_type": "stream",
     "text": [
      "Collecting segmentation-models-pytorch\r\n",
      "  Obtaining dependency information for segmentation-models-pytorch from https://files.pythonhosted.org/packages/cb/70/4aac1b240b399b108ce58029ae54bc14497e1bbc275dfab8fd3c84c1e35d/segmentation_models_pytorch-0.3.3-py3-none-any.whl.metadata\r\n",
      "  Downloading segmentation_models_pytorch-0.3.3-py3-none-any.whl.metadata (30 kB)\r\n",
      "Requirement already satisfied: torchvision>=0.5.0 in /opt/conda/lib/python3.10/site-packages (from segmentation-models-pytorch) (0.15.1)\r\n",
      "Collecting pretrainedmodels==0.7.4 (from segmentation-models-pytorch)\r\n",
      "  Downloading pretrainedmodels-0.7.4.tar.gz (58 kB)\r\n",
      "\u001b[2K     \u001b[90m━━━━━━━━━━━━━━━━━━━━━━━━━━━━━━━━━━━━━━━━\u001b[0m \u001b[32m58.8/58.8 kB\u001b[0m \u001b[31m6.6 MB/s\u001b[0m eta \u001b[36m0:00:00\u001b[0m\r\n",
      "\u001b[?25h  Preparing metadata (setup.py) ... \u001b[?25l-\b \b\\\b \bdone\r\n",
      "\u001b[?25hCollecting efficientnet-pytorch==0.7.1 (from segmentation-models-pytorch)\r\n",
      "  Downloading efficientnet_pytorch-0.7.1.tar.gz (21 kB)\r\n",
      "  Preparing metadata (setup.py) ... \u001b[?25l-\b \bdone\r\n",
      "\u001b[?25hCollecting timm==0.9.2 (from segmentation-models-pytorch)\r\n",
      "  Obtaining dependency information for timm==0.9.2 from https://files.pythonhosted.org/packages/29/90/94f5deb8d76e24a89813aef95e8809ca8fd7414490428480eda19b133d4a/timm-0.9.2-py3-none-any.whl.metadata\r\n",
      "  Downloading timm-0.9.2-py3-none-any.whl.metadata (68 kB)\r\n",
      "\u001b[2K     \u001b[90m━━━━━━━━━━━━━━━━━━━━━━━━━━━━━━━━━━━━━━━━\u001b[0m \u001b[32m68.5/68.5 kB\u001b[0m \u001b[31m8.0 MB/s\u001b[0m eta \u001b[36m0:00:00\u001b[0m\r\n",
      "\u001b[?25hRequirement already satisfied: tqdm in /opt/conda/lib/python3.10/site-packages (from segmentation-models-pytorch) (4.66.1)\r\n",
      "Requirement already satisfied: pillow in /opt/conda/lib/python3.10/site-packages (from segmentation-models-pytorch) (10.1.0)\r\n",
      "Requirement already satisfied: torch in /opt/conda/lib/python3.10/site-packages (from efficientnet-pytorch==0.7.1->segmentation-models-pytorch) (2.0.0)\r\n",
      "Collecting munch (from pretrainedmodels==0.7.4->segmentation-models-pytorch)\r\n",
      "  Obtaining dependency information for munch from https://files.pythonhosted.org/packages/56/b3/7c69b37f03260a061883bec0e7b05be7117c1b1c85f5212c72c8c2bc3c8c/munch-4.0.0-py2.py3-none-any.whl.metadata\r\n",
      "  Downloading munch-4.0.0-py2.py3-none-any.whl.metadata (5.9 kB)\r\n",
      "Requirement already satisfied: pyyaml in /opt/conda/lib/python3.10/site-packages (from timm==0.9.2->segmentation-models-pytorch) (6.0.1)\r\n",
      "Requirement already satisfied: huggingface-hub in /opt/conda/lib/python3.10/site-packages (from timm==0.9.2->segmentation-models-pytorch) (0.17.3)\r\n",
      "Requirement already satisfied: safetensors in /opt/conda/lib/python3.10/site-packages (from timm==0.9.2->segmentation-models-pytorch) (0.4.0)\r\n",
      "Requirement already satisfied: numpy in /opt/conda/lib/python3.10/site-packages (from torchvision>=0.5.0->segmentation-models-pytorch) (1.24.3)\r\n",
      "Requirement already satisfied: requests in /opt/conda/lib/python3.10/site-packages (from torchvision>=0.5.0->segmentation-models-pytorch) (2.31.0)\r\n",
      "Requirement already satisfied: filelock in /opt/conda/lib/python3.10/site-packages (from torch->efficientnet-pytorch==0.7.1->segmentation-models-pytorch) (3.12.2)\r\n",
      "Requirement already satisfied: typing-extensions in /opt/conda/lib/python3.10/site-packages (from torch->efficientnet-pytorch==0.7.1->segmentation-models-pytorch) (4.5.0)\r\n",
      "Requirement already satisfied: sympy in /opt/conda/lib/python3.10/site-packages (from torch->efficientnet-pytorch==0.7.1->segmentation-models-pytorch) (1.12)\r\n",
      "Requirement already satisfied: networkx in /opt/conda/lib/python3.10/site-packages (from torch->efficientnet-pytorch==0.7.1->segmentation-models-pytorch) (3.1)\r\n",
      "Requirement already satisfied: jinja2 in /opt/conda/lib/python3.10/site-packages (from torch->efficientnet-pytorch==0.7.1->segmentation-models-pytorch) (3.1.2)\r\n",
      "Requirement already satisfied: fsspec in /opt/conda/lib/python3.10/site-packages (from huggingface-hub->timm==0.9.2->segmentation-models-pytorch) (2023.10.0)\r\n",
      "Requirement already satisfied: packaging>=20.9 in /opt/conda/lib/python3.10/site-packages (from huggingface-hub->timm==0.9.2->segmentation-models-pytorch) (21.3)\r\n",
      "Requirement already satisfied: charset-normalizer<4,>=2 in /opt/conda/lib/python3.10/site-packages (from requests->torchvision>=0.5.0->segmentation-models-pytorch) (3.2.0)\r\n",
      "Requirement already satisfied: idna<4,>=2.5 in /opt/conda/lib/python3.10/site-packages (from requests->torchvision>=0.5.0->segmentation-models-pytorch) (3.4)\r\n",
      "Requirement already satisfied: urllib3<3,>=1.21.1 in /opt/conda/lib/python3.10/site-packages (from requests->torchvision>=0.5.0->segmentation-models-pytorch) (1.26.15)\r\n",
      "Requirement already satisfied: certifi>=2017.4.17 in /opt/conda/lib/python3.10/site-packages (from requests->torchvision>=0.5.0->segmentation-models-pytorch) (2023.7.22)\r\n",
      "Requirement already satisfied: pyparsing!=3.0.5,>=2.0.2 in /opt/conda/lib/python3.10/site-packages (from packaging>=20.9->huggingface-hub->timm==0.9.2->segmentation-models-pytorch) (3.0.9)\r\n",
      "Requirement already satisfied: MarkupSafe>=2.0 in /opt/conda/lib/python3.10/site-packages (from jinja2->torch->efficientnet-pytorch==0.7.1->segmentation-models-pytorch) (2.1.3)\r\n",
      "Requirement already satisfied: mpmath>=0.19 in /opt/conda/lib/python3.10/site-packages (from sympy->torch->efficientnet-pytorch==0.7.1->segmentation-models-pytorch) (1.3.0)\r\n",
      "Downloading segmentation_models_pytorch-0.3.3-py3-none-any.whl (106 kB)\r\n",
      "\u001b[2K   \u001b[90m━━━━━━━━━━━━━━━━━━━━━━━━━━━━━━━━━━━━━━━━\u001b[0m \u001b[32m106.7/106.7 kB\u001b[0m \u001b[31m8.3 MB/s\u001b[0m eta \u001b[36m0:00:00\u001b[0m\r\n",
      "\u001b[?25hDownloading timm-0.9.2-py3-none-any.whl (2.2 MB)\r\n",
      "\u001b[2K   \u001b[90m━━━━━━━━━━━━━━━━━━━━━━━━━━━━━━━━━━━━━━━━\u001b[0m \u001b[32m2.2/2.2 MB\u001b[0m \u001b[31m60.8 MB/s\u001b[0m eta \u001b[36m0:00:00\u001b[0m\r\n",
      "\u001b[?25hDownloading munch-4.0.0-py2.py3-none-any.whl (9.9 kB)\r\n",
      "Building wheels for collected packages: efficientnet-pytorch, pretrainedmodels\r\n",
      "  Building wheel for efficientnet-pytorch (setup.py) ... \u001b[?25l-\b \bdone\r\n",
      "\u001b[?25h  Created wheel for efficientnet-pytorch: filename=efficientnet_pytorch-0.7.1-py3-none-any.whl size=16428 sha256=455e359f993f462f6475ecc5695c01c29d71f11c398314df37cc8159f18cf206\r\n",
      "  Stored in directory: /root/.cache/pip/wheels/03/3f/e9/911b1bc46869644912bda90a56bcf7b960f20b5187feea3baf\r\n",
      "  Building wheel for pretrainedmodels (setup.py) ... \u001b[?25l-\b \b\\\b \b|\b \bdone\r\n",
      "\u001b[?25h  Created wheel for pretrainedmodels: filename=pretrainedmodels-0.7.4-py3-none-any.whl size=60943 sha256=2e304493c4d79cdb833f23b047e3872430bd6c9146cb7d2369bf01d606d439c7\r\n",
      "  Stored in directory: /root/.cache/pip/wheels/35/cb/a5/8f534c60142835bfc889f9a482e4a67e0b817032d9c6883b64\r\n",
      "Successfully built efficientnet-pytorch pretrainedmodels\r\n",
      "Installing collected packages: munch, efficientnet-pytorch, timm, pretrainedmodels, segmentation-models-pytorch\r\n",
      "  Attempting uninstall: timm\r\n",
      "    Found existing installation: timm 0.9.10\r\n",
      "    Uninstalling timm-0.9.10:\r\n",
      "      Successfully uninstalled timm-0.9.10\r\n",
      "Successfully installed efficientnet-pytorch-0.7.1 munch-4.0.0 pretrainedmodels-0.7.4 segmentation-models-pytorch-0.3.3 timm-0.9.2\r\n"
     ]
    }
   ],
   "source": [
    "!pip install segmentation-models-pytorch"
   ]
  },
  {
   "cell_type": "code",
   "execution_count": 10,
   "id": "eff8e857",
   "metadata": {
    "execution": {
     "iopub.execute_input": "2024-03-07T04:11:36.910740Z",
     "iopub.status.busy": "2024-03-07T04:11:36.910384Z",
     "iopub.status.idle": "2024-03-07T04:12:02.413310Z",
     "shell.execute_reply": "2024-03-07T04:12:02.412242Z"
    },
    "papermill": {
     "duration": 25.529004,
     "end_time": "2024-03-07T04:12:02.415833",
     "exception": false,
     "start_time": "2024-03-07T04:11:36.886829",
     "status": "completed"
    },
    "tags": []
   },
   "outputs": [
    {
     "name": "stderr",
     "output_type": "stream",
     "text": [
      "Downloading: \"https://github.com/rwightman/pytorch-image-models/releases/download/v0.1-regnet/regnetx_320-8ea38b93.pth\" to /root/.cache/torch/hub/checkpoints/regnetx_320-8ea38b93.pth\n",
      "100%|██████████| 412M/412M [00:20<00:00, 20.9MB/s]\n"
     ]
    }
   ],
   "source": [
    "import segmentation_models_pytorch as smp\n",
    "\n",
    "# model = smp.DeepLabV3Plus(\n",
    "#     encoder_name=\"timm-regnetx_320\",        \n",
    "#     encoder_weights=\"imagenet\",     \n",
    "#     in_channels=3,                  \n",
    "#     classes=3)\n",
    "model = smp.DeepLabV3Plus(\n",
    "    encoder_name=\"timm-regnetx_320\",        \n",
    "    encoder_weights=\"imagenet\",     \n",
    "    in_channels=3,                  \n",
    "    classes=3)"
   ]
  },
  {
   "cell_type": "markdown",
   "id": "5f8a6aab",
   "metadata": {
    "papermill": {
     "duration": 0.043691,
     "end_time": "2024-03-07T04:12:02.501744",
     "exception": false,
     "start_time": "2024-03-07T04:12:02.458053",
     "status": "completed"
    },
    "tags": []
   },
   "source": [
    "# Parameters"
   ]
  },
  {
   "cell_type": "code",
   "execution_count": 11,
   "id": "e8f97c38",
   "metadata": {
    "execution": {
     "iopub.execute_input": "2024-03-07T04:12:02.615606Z",
     "iopub.status.busy": "2024-03-07T04:12:02.615045Z",
     "iopub.status.idle": "2024-03-07T04:12:02.623990Z",
     "shell.execute_reply": "2024-03-07T04:12:02.622778Z"
    },
    "papermill": {
     "duration": 0.068877,
     "end_time": "2024-03-07T04:12:02.626447",
     "exception": false,
     "start_time": "2024-03-07T04:12:02.557570",
     "status": "completed"
    },
    "tags": []
   },
   "outputs": [],
   "source": [
    "# Number of class in the data set (3: neoplastic, non neoplastic, background)\n",
    "num_classes = 3\n",
    "\n",
    "# Number of epoch\n",
    "epochs = 10\n",
    "\n",
    "# Hyperparameters for training \n",
    "learning_rate = 1e-04\n",
    "batch_size = 4\n",
    "display_step = 50\n",
    "\n",
    "# Model path\n",
    "checkpoint_path = '/kaggle/working/unet_model.pth'\n",
    "pretrained_path = \"/kaggle/input/unet-checkpoint/unet_model.pth\"\n",
    "# Initialize lists to keep track of loss and accuracy\n",
    "loss_array = []\n",
    "train_accuracy = []\n",
    "test_accuracy = []\n",
    "valid_accuracy = []"
   ]
  },
  {
   "cell_type": "markdown",
   "id": "5105e2b3",
   "metadata": {
    "papermill": {
     "duration": 0.043464,
     "end_time": "2024-03-07T04:12:02.714090",
     "exception": false,
     "start_time": "2024-03-07T04:12:02.670626",
     "status": "completed"
    },
    "tags": []
   },
   "source": [
    "# Dataloader"
   ]
  },
  {
   "cell_type": "code",
   "execution_count": 12,
   "id": "72917881",
   "metadata": {
    "execution": {
     "iopub.execute_input": "2024-03-07T04:12:02.797929Z",
     "iopub.status.busy": "2024-03-07T04:12:02.797576Z",
     "iopub.status.idle": "2024-03-07T04:12:02.802208Z",
     "shell.execute_reply": "2024-03-07T04:12:02.801354Z"
    },
    "papermill": {
     "duration": 0.045884,
     "end_time": "2024-03-07T04:12:02.804050",
     "exception": false,
     "start_time": "2024-03-07T04:12:02.758166",
     "status": "completed"
    },
    "tags": []
   },
   "outputs": [],
   "source": [
    "transform = Compose([Resize((512,512), interpolation=InterpolationMode.BILINEAR),\n",
    "                     PILToTensor()])"
   ]
  },
  {
   "cell_type": "code",
   "execution_count": 13,
   "id": "4c270057",
   "metadata": {
    "execution": {
     "iopub.execute_input": "2024-03-07T04:12:02.878403Z",
     "iopub.status.busy": "2024-03-07T04:12:02.877655Z",
     "iopub.status.idle": "2024-03-07T04:12:02.887137Z",
     "shell.execute_reply": "2024-03-07T04:12:02.886186Z"
    },
    "papermill": {
     "duration": 0.049304,
     "end_time": "2024-03-07T04:12:02.889249",
     "exception": false,
     "start_time": "2024-03-07T04:12:02.839945",
     "status": "completed"
    },
    "tags": []
   },
   "outputs": [],
   "source": [
    "class UNetDataClass(Dataset):\n",
    "    def __init__(self, images_path, masks_path, transform):\n",
    "        super(UNetDataClass, self).__init__()\n",
    "        \n",
    "        images_list = os.listdir(images_path)\n",
    "        masks_list = os.listdir(masks_path)\n",
    "        \n",
    "        images_list = [images_path + image_name for image_name in images_list]\n",
    "        masks_list = [masks_path + mask_name for mask_name in masks_list]\n",
    "        \n",
    "        self.images_list = images_list\n",
    "        self.masks_list = masks_list\n",
    "        self.transform = transform\n",
    "        \n",
    "    def __getitem__(self, index):\n",
    "        img_path = self.images_list[index]\n",
    "        mask_path = self.masks_list[index]\n",
    "        \n",
    "        # Open image and mask\n",
    "        data = Image.open(img_path)\n",
    "        label = Image.open(mask_path)\n",
    "        \n",
    "        # Normalize\n",
    "        data = self.transform(data) / 255\n",
    "        label = self.transform(label) / 255\n",
    "        \n",
    "        label = torch.where(label>0.65, 1.0, 0.0)\n",
    "        \n",
    "        label[2, :, :] = 0.0001\n",
    "        label = torch.argmax(label, 0).type(torch.int64)\n",
    "        \n",
    "        return data, label\n",
    "    \n",
    "    def __len__(self):\n",
    "        return len(self.images_list)"
   ]
  },
  {
   "cell_type": "code",
   "execution_count": 14,
   "id": "c1d69c83",
   "metadata": {
    "execution": {
     "iopub.execute_input": "2024-03-07T04:12:02.962605Z",
     "iopub.status.busy": "2024-03-07T04:12:02.962296Z",
     "iopub.status.idle": "2024-03-07T04:12:02.966454Z",
     "shell.execute_reply": "2024-03-07T04:12:02.965533Z"
    },
    "papermill": {
     "duration": 0.042937,
     "end_time": "2024-03-07T04:12:02.968445",
     "exception": false,
     "start_time": "2024-03-07T04:12:02.925508",
     "status": "completed"
    },
    "tags": []
   },
   "outputs": [],
   "source": [
    "images_path = \"/kaggle/input/bkai-igh-neopolyp/train/train/\"\n",
    "masks_path =  \"/kaggle/input/bkai-igh-neopolyp/train_gt/train_gt/\""
   ]
  },
  {
   "cell_type": "code",
   "execution_count": 15,
   "id": "15ca7ad7",
   "metadata": {
    "execution": {
     "iopub.execute_input": "2024-03-07T04:12:03.040387Z",
     "iopub.status.busy": "2024-03-07T04:12:03.040082Z",
     "iopub.status.idle": "2024-03-07T04:12:03.252474Z",
     "shell.execute_reply": "2024-03-07T04:12:03.251689Z"
    },
    "papermill": {
     "duration": 0.250933,
     "end_time": "2024-03-07T04:12:03.254720",
     "exception": false,
     "start_time": "2024-03-07T04:12:03.003787",
     "status": "completed"
    },
    "tags": []
   },
   "outputs": [],
   "source": [
    "unet_dataset = UNetDataClass(images_path, masks_path, transform)"
   ]
  },
  {
   "cell_type": "code",
   "execution_count": 16,
   "id": "d18df60c",
   "metadata": {
    "execution": {
     "iopub.execute_input": "2024-03-07T04:12:03.326006Z",
     "iopub.status.busy": "2024-03-07T04:12:03.325661Z",
     "iopub.status.idle": "2024-03-07T04:12:03.329713Z",
     "shell.execute_reply": "2024-03-07T04:12:03.328966Z"
    },
    "papermill": {
     "duration": 0.041232,
     "end_time": "2024-03-07T04:12:03.331669",
     "exception": false,
     "start_time": "2024-03-07T04:12:03.290437",
     "status": "completed"
    },
    "tags": []
   },
   "outputs": [],
   "source": [
    "train_size = 0.9\n",
    "valid_size = 0.1"
   ]
  },
  {
   "cell_type": "code",
   "execution_count": 17,
   "id": "b91c14e4",
   "metadata": {
    "execution": {
     "iopub.execute_input": "2024-03-07T04:12:03.401734Z",
     "iopub.status.busy": "2024-03-07T04:12:03.401454Z",
     "iopub.status.idle": "2024-03-07T04:12:03.410859Z",
     "shell.execute_reply": "2024-03-07T04:12:03.409965Z"
    },
    "papermill": {
     "duration": 0.046433,
     "end_time": "2024-03-07T04:12:03.412678",
     "exception": false,
     "start_time": "2024-03-07T04:12:03.366245",
     "status": "completed"
    },
    "tags": []
   },
   "outputs": [
    {
     "data": {
      "text/plain": [
       "<torch._C.Generator at 0x7b8e5f956ab0>"
      ]
     },
     "execution_count": 17,
     "metadata": {},
     "output_type": "execute_result"
    }
   ],
   "source": [
    "torch.manual_seed(42)"
   ]
  },
  {
   "cell_type": "code",
   "execution_count": 18,
   "id": "82395e8b",
   "metadata": {
    "execution": {
     "iopub.execute_input": "2024-03-07T04:12:03.483939Z",
     "iopub.status.busy": "2024-03-07T04:12:03.483604Z",
     "iopub.status.idle": "2024-03-07T04:12:03.492787Z",
     "shell.execute_reply": "2024-03-07T04:12:03.492099Z"
    },
    "papermill": {
     "duration": 0.047003,
     "end_time": "2024-03-07T04:12:03.494764",
     "exception": false,
     "start_time": "2024-03-07T04:12:03.447761",
     "status": "completed"
    },
    "tags": []
   },
   "outputs": [],
   "source": [
    "train_set, valid_set = random_split(unet_dataset, \n",
    "                                    [int(train_size * len(unet_dataset)) , \n",
    "                                     int(valid_size * len(unet_dataset))])"
   ]
  },
  {
   "cell_type": "code",
   "execution_count": 19,
   "id": "d20856af",
   "metadata": {
    "execution": {
     "iopub.execute_input": "2024-03-07T04:12:03.566194Z",
     "iopub.status.busy": "2024-03-07T04:12:03.565598Z",
     "iopub.status.idle": "2024-03-07T04:12:03.570415Z",
     "shell.execute_reply": "2024-03-07T04:12:03.569581Z"
    },
    "papermill": {
     "duration": 0.043081,
     "end_time": "2024-03-07T04:12:03.572311",
     "exception": false,
     "start_time": "2024-03-07T04:12:03.529230",
     "status": "completed"
    },
    "tags": []
   },
   "outputs": [],
   "source": [
    "train_dataloader = DataLoader(train_set, batch_size=batch_size, shuffle=True)\n",
    "valid_dataloader = DataLoader(valid_set, batch_size=batch_size, shuffle=True)"
   ]
  },
  {
   "cell_type": "markdown",
   "id": "444b2b75",
   "metadata": {
    "papermill": {
     "duration": 0.033802,
     "end_time": "2024-03-07T04:12:03.640524",
     "exception": false,
     "start_time": "2024-03-07T04:12:03.606722",
     "status": "completed"
    },
    "tags": []
   },
   "source": [
    "# Data Augmentation"
   ]
  },
  {
   "cell_type": "code",
   "execution_count": 20,
   "id": "01547ff3",
   "metadata": {
    "execution": {
     "iopub.execute_input": "2024-03-07T04:12:03.710490Z",
     "iopub.status.busy": "2024-03-07T04:12:03.709692Z",
     "iopub.status.idle": "2024-03-07T04:12:05.322865Z",
     "shell.execute_reply": "2024-03-07T04:12:05.322007Z"
    },
    "papermill": {
     "duration": 1.650725,
     "end_time": "2024-03-07T04:12:05.325258",
     "exception": false,
     "start_time": "2024-03-07T04:12:03.674533",
     "status": "completed"
    },
    "tags": []
   },
   "outputs": [
    {
     "name": "stderr",
     "output_type": "stream",
     "text": [
      "/opt/conda/lib/python3.10/site-packages/scipy/__init__.py:146: UserWarning: A NumPy version >=1.16.5 and <1.23.0 is required for this version of SciPy (detected version 1.24.3\n",
      "  warnings.warn(f\"A NumPy version >={np_minversion} and <{np_maxversion}\"\n"
     ]
    }
   ],
   "source": [
    "from albumentations import (\n",
    "    Compose,\n",
    "    RandomRotate90,\n",
    "    Flip,\n",
    "    Transpose,\n",
    "    ElasticTransform,\n",
    "    GridDistortion,\n",
    "    OpticalDistortion,\n",
    "    RandomBrightnessContrast,\n",
    "    HorizontalFlip,\n",
    "    VerticalFlip,\n",
    "    RandomGamma,\n",
    "    RGBShift,\n",
    ")"
   ]
  },
  {
   "cell_type": "code",
   "execution_count": 21,
   "id": "5c987556",
   "metadata": {
    "execution": {
     "iopub.execute_input": "2024-03-07T04:12:05.396589Z",
     "iopub.status.busy": "2024-03-07T04:12:05.395636Z",
     "iopub.status.idle": "2024-03-07T04:12:05.401244Z",
     "shell.execute_reply": "2024-03-07T04:12:05.400438Z"
    },
    "papermill": {
     "duration": 0.043025,
     "end_time": "2024-03-07T04:12:05.403007",
     "exception": false,
     "start_time": "2024-03-07T04:12:05.359982",
     "status": "completed"
    },
    "tags": []
   },
   "outputs": [],
   "source": [
    "augmentation = Compose([\n",
    "    HorizontalFlip(p=0.5),\n",
    "    VerticalFlip(p=0.5),\n",
    "    RandomGamma (gamma_limit=(70, 130), eps=None, always_apply=False, p=0.2),\n",
    "    RGBShift(p=0.3, r_shift_limit=10, g_shift_limit=10, b_shift_limit=10),\n",
    "])"
   ]
  },
  {
   "cell_type": "code",
   "execution_count": 22,
   "id": "0ebff179",
   "metadata": {
    "execution": {
     "iopub.execute_input": "2024-03-07T04:12:05.472137Z",
     "iopub.status.busy": "2024-03-07T04:12:05.471823Z",
     "iopub.status.idle": "2024-03-07T04:12:05.488319Z",
     "shell.execute_reply": "2024-03-07T04:12:05.487476Z"
    },
    "papermill": {
     "duration": 0.053418,
     "end_time": "2024-03-07T04:12:05.490276",
     "exception": false,
     "start_time": "2024-03-07T04:12:05.436858",
     "status": "completed"
    },
    "tags": []
   },
   "outputs": [],
   "source": [
    "class SegDataClass(Dataset):\n",
    "    def __init__(self, images_path, masks_path, transform=None, augmentation=None):\n",
    "        super(SegDataClass, self).__init__()\n",
    "        \n",
    "        images_list = os.listdir(images_path)\n",
    "        masks_list = os.listdir(masks_path)\n",
    "        \n",
    "        images_list = [os.path.join(images_path, image_name) for image_name in images_list]\n",
    "        masks_list = [os.path.join(masks_path, mask_name) for mask_name in masks_list]\n",
    "        \n",
    "        self.images_list = images_list\n",
    "        self.masks_list = masks_list\n",
    "        self.transform = transform\n",
    "        self.augmentation = augmentation\n",
    "        \n",
    "    def __getitem__(self, index):\n",
    "        img_path = self.images_list[index]\n",
    "        mask_path = self.masks_list[index]\n",
    "        \n",
    "        # Open image and mask\n",
    "        data = Image.open(img_path)\n",
    "        label = Image.open(mask_path)\n",
    "        \n",
    "        # Augmentation\n",
    "        if self.augmentation:\n",
    "            augmented = self.augmentation(image=np.array(data), mask=np.array(label))\n",
    "            data = Image.fromarray(augmented['image'])\n",
    "            label = Image.fromarray(augmented['mask'])\n",
    "        \n",
    "        # Normalize\n",
    "        data = self.transform(data) / 255\n",
    "        label = self.transform(label) / 255\n",
    "        \n",
    "        label = torch.where(label > 0.65, 1.0, 0.0)\n",
    "        label[2, :, :] = 0.0001\n",
    "        label = torch.argmax(label, 0).type(torch.int64)\n",
    "        \n",
    "        return data, label\n",
    "    \n",
    "    def __len__(self):\n",
    "        return len(self.images_list)\n",
    "\n",
    "\n",
    "# transform = transforms.ToTensor()\n",
    "aug_dataset = SegDataClass(images_path, masks_path, transform=transform, augmentation=augmentation)"
   ]
  },
  {
   "cell_type": "code",
   "execution_count": 23,
   "id": "95098a60",
   "metadata": {
    "execution": {
     "iopub.execute_input": "2024-03-07T04:12:05.559200Z",
     "iopub.status.busy": "2024-03-07T04:12:05.558911Z",
     "iopub.status.idle": "2024-03-07T04:12:05.565411Z",
     "shell.execute_reply": "2024-03-07T04:12:05.564501Z"
    },
    "papermill": {
     "duration": 0.043149,
     "end_time": "2024-03-07T04:12:05.567414",
     "exception": false,
     "start_time": "2024-03-07T04:12:05.524265",
     "status": "completed"
    },
    "tags": []
   },
   "outputs": [
    {
     "data": {
      "text/plain": [
       "<torch._C.Generator at 0x7b8e5f956ab0>"
      ]
     },
     "execution_count": 23,
     "metadata": {},
     "output_type": "execute_result"
    }
   ],
   "source": [
    "torch.manual_seed(42)"
   ]
  },
  {
   "cell_type": "code",
   "execution_count": 24,
   "id": "b541f867",
   "metadata": {
    "execution": {
     "iopub.execute_input": "2024-03-07T04:12:05.637570Z",
     "iopub.status.busy": "2024-03-07T04:12:05.637073Z",
     "iopub.status.idle": "2024-03-07T04:12:05.641645Z",
     "shell.execute_reply": "2024-03-07T04:12:05.640831Z"
    },
    "papermill": {
     "duration": 0.041472,
     "end_time": "2024-03-07T04:12:05.643572",
     "exception": false,
     "start_time": "2024-03-07T04:12:05.602100",
     "status": "completed"
    },
    "tags": []
   },
   "outputs": [],
   "source": [
    "train_aug_set, valid_aug_set = random_split(aug_dataset, \n",
    "                                    [int(train_size * len(aug_dataset)) , \n",
    "                                     int(valid_size * len(aug_dataset))])"
   ]
  },
  {
   "cell_type": "code",
   "execution_count": 25,
   "id": "9fa08fbb",
   "metadata": {
    "execution": {
     "iopub.execute_input": "2024-03-07T04:12:05.715315Z",
     "iopub.status.busy": "2024-03-07T04:12:05.714961Z",
     "iopub.status.idle": "2024-03-07T04:12:05.720475Z",
     "shell.execute_reply": "2024-03-07T04:12:05.719020Z"
    },
    "papermill": {
     "duration": 0.044376,
     "end_time": "2024-03-07T04:12:05.722746",
     "exception": false,
     "start_time": "2024-03-07T04:12:05.678370",
     "status": "completed"
    },
    "tags": []
   },
   "outputs": [],
   "source": [
    "from torch.utils.data import ConcatDataset\n",
    "# combined_dataset = ConcatDataset([aug_dataset, train_set])\n",
    "# train_dataloader = DataLoader(combined_dataset, batch_size=batch_size, shuffle=True)\n",
    "train_dataloader = DataLoader(train_aug_set, batch_size=batch_size, shuffle=True)"
   ]
  },
  {
   "cell_type": "markdown",
   "id": "14ef64c7",
   "metadata": {
    "papermill": {
     "duration": 0.034493,
     "end_time": "2024-03-07T04:12:05.791962",
     "exception": false,
     "start_time": "2024-03-07T04:12:05.757469",
     "status": "completed"
    },
    "tags": []
   },
   "source": [
    "# Model"
   ]
  },
  {
   "cell_type": "markdown",
   "id": "aa74a377",
   "metadata": {
    "papermill": {
     "duration": 0.034163,
     "end_time": "2024-03-07T04:12:05.860357",
     "exception": false,
     "start_time": "2024-03-07T04:12:05.826194",
     "status": "completed"
    },
    "tags": []
   },
   "source": [
    "**Residual Block**"
   ]
  },
  {
   "cell_type": "code",
   "execution_count": 26,
   "id": "33a45574",
   "metadata": {
    "execution": {
     "iopub.execute_input": "2024-03-07T04:12:05.930441Z",
     "iopub.status.busy": "2024-03-07T04:12:05.930094Z",
     "iopub.status.idle": "2024-03-07T04:12:05.938652Z",
     "shell.execute_reply": "2024-03-07T04:12:05.937826Z"
    },
    "papermill": {
     "duration": 0.04607,
     "end_time": "2024-03-07T04:12:05.940543",
     "exception": false,
     "start_time": "2024-03-07T04:12:05.894473",
     "status": "completed"
    },
    "tags": []
   },
   "outputs": [],
   "source": [
    "class ResidualBlock(nn.Module):\n",
    "    def __init__(self, in_channels, out_channels):\n",
    "        super(ResidualBlock, self).__init__()\n",
    "\n",
    "        self.conv1 = nn.Conv2d(in_channels, out_channels, kernel_size=3, padding=1)\n",
    "        self.bn1 = nn.BatchNorm2d(out_channels)\n",
    "        self.relu = nn.ReLU(inplace=True)\n",
    "\n",
    "        self.conv2 = nn.Conv2d(out_channels, out_channels, kernel_size=3, padding=1)\n",
    "        self.bn2 = nn.BatchNorm2d(out_channels)\n",
    "        \n",
    "        self.bn3 = nn.BatchNorm2d(out_channels)\n",
    "        \n",
    "        self.dropout = nn.Dropout(p=0.3)\n",
    "\n",
    "    def forward(self, x):\n",
    "        residual = x\n",
    "\n",
    "        out = self.conv1(x)\n",
    "        out = self.bn1(out)\n",
    "        out = self.relu(out)\n",
    "        \n",
    "        out = self.dropout(out)\n",
    "\n",
    "        out = self.conv2(out)\n",
    "        out = self.bn2(out)\n",
    "        \n",
    "        residual = self.conv1(residual)\n",
    "        residual = self.bn3(residual)\n",
    "\n",
    "        out += residual  \n",
    "        out = self.relu(out)\n",
    "\n",
    "        return out"
   ]
  },
  {
   "cell_type": "markdown",
   "id": "8414df97",
   "metadata": {
    "papermill": {
     "duration": 0.034405,
     "end_time": "2024-03-07T04:12:06.009320",
     "exception": false,
     "start_time": "2024-03-07T04:12:05.974915",
     "status": "completed"
    },
    "tags": []
   },
   "source": [
    "**Encoder Block**"
   ]
  },
  {
   "cell_type": "code",
   "execution_count": 27,
   "id": "2e000101",
   "metadata": {
    "execution": {
     "iopub.execute_input": "2024-03-07T04:12:06.078841Z",
     "iopub.status.busy": "2024-03-07T04:12:06.078505Z",
     "iopub.status.idle": "2024-03-07T04:12:06.086779Z",
     "shell.execute_reply": "2024-03-07T04:12:06.085990Z"
    },
    "papermill": {
     "duration": 0.045215,
     "end_time": "2024-03-07T04:12:06.088625",
     "exception": false,
     "start_time": "2024-03-07T04:12:06.043410",
     "status": "completed"
    },
    "tags": []
   },
   "outputs": [],
   "source": [
    "class encoder_block(nn.Module):\n",
    "    def __init__(self, in_channels, out_channels):\n",
    "        super(encoder_block, self).__init__()\n",
    "        \n",
    "        self.conv1 = nn.Conv2d(in_channels, out_channels, kernel_size=3, stride=1, padding='same')\n",
    "        self.conv2 = nn.Conv2d(out_channels, out_channels, kernel_size=3, stride=1, padding='same')\n",
    "        \n",
    "        self.bn1 = nn.BatchNorm2d(out_channels)\n",
    "        self.bn2 = nn.BatchNorm2d(out_channels)\n",
    "        \n",
    "        self.relu = nn.ReLU()\n",
    "        self.dropout = nn.Dropout(p=0.3)\n",
    "        self.max_pool = nn.MaxPool2d(kernel_size=2, stride=2)\n",
    "        \n",
    "    def forward(self, x):\n",
    "        x = self.conv1(x)\n",
    "        x = self.bn1(x)\n",
    "        x = self.relu(x)\n",
    "        \n",
    "        x = self.dropout(x)\n",
    "        \n",
    "        x = self.conv2(x)\n",
    "        x = self.bn2(x)\n",
    "        x = self.relu(x)\n",
    "        \n",
    "        next_layer = self.max_pool(x)\n",
    "        skip_layer = x\n",
    "        \n",
    "        return next_layer, skip_layer"
   ]
  },
  {
   "cell_type": "code",
   "execution_count": 28,
   "id": "03dd3e97",
   "metadata": {
    "execution": {
     "iopub.execute_input": "2024-03-07T04:12:06.158786Z",
     "iopub.status.busy": "2024-03-07T04:12:06.158133Z",
     "iopub.status.idle": "2024-03-07T04:12:06.167104Z",
     "shell.execute_reply": "2024-03-07T04:12:06.166304Z"
    },
    "papermill": {
     "duration": 0.046367,
     "end_time": "2024-03-07T04:12:06.168880",
     "exception": false,
     "start_time": "2024-03-07T04:12:06.122513",
     "status": "completed"
    },
    "tags": []
   },
   "outputs": [],
   "source": [
    "class res_encoder_block(nn.Module):\n",
    "    def __init__(self, in_channels, out_channels):\n",
    "        super(res_encoder_block, self).__init__()\n",
    "        \n",
    "        self.conv1 = nn.Conv2d(in_channels, out_channels, kernel_size=3, stride=1, padding='same')\n",
    "        self.conv2 = nn.Conv2d(out_channels, out_channels, kernel_size=3, stride=1, padding='same')\n",
    "        \n",
    "        self.bn1 = nn.BatchNorm2d(out_channels)\n",
    "        self.bn2 = nn.BatchNorm2d(out_channels)\n",
    "        self.bn3 = nn.BatchNorm2d(out_channels)\n",
    "        \n",
    "        self.relu = nn.ReLU()\n",
    "        self.dropout = nn.Dropout(p=0.3)\n",
    "        self.max_pool = nn.MaxPool2d(kernel_size=2, stride=2)\n",
    "        \n",
    "    def forward(self, x):\n",
    "        residual = x\n",
    "        \n",
    "        x = self.conv1(x)\n",
    "        x = self.bn1(x)\n",
    "        x = self.relu(x)\n",
    "        \n",
    "        x = self.dropout(x)\n",
    "        \n",
    "        x = self.conv2(x)\n",
    "        x = self.bn2(x)\n",
    "        \n",
    "        residual = self.conv1(residual)\n",
    "        residual = self.bn3(residual)\n",
    "        \n",
    "        \n",
    "        x += residual  \n",
    "        x = self.relu(x)\n",
    "        \n",
    "        next_layer = self.max_pool(x)\n",
    "        skip_layer = x\n",
    "        \n",
    "        return next_layer, skip_layer"
   ]
  },
  {
   "cell_type": "markdown",
   "id": "b70ec028",
   "metadata": {
    "papermill": {
     "duration": 0.034266,
     "end_time": "2024-03-07T04:12:06.237314",
     "exception": false,
     "start_time": "2024-03-07T04:12:06.203048",
     "status": "completed"
    },
    "tags": []
   },
   "source": [
    "**Decoder block**"
   ]
  },
  {
   "cell_type": "code",
   "execution_count": 29,
   "id": "0a8b7858",
   "metadata": {
    "execution": {
     "iopub.execute_input": "2024-03-07T04:12:06.320061Z",
     "iopub.status.busy": "2024-03-07T04:12:06.319248Z",
     "iopub.status.idle": "2024-03-07T04:12:06.329327Z",
     "shell.execute_reply": "2024-03-07T04:12:06.328306Z"
    },
    "papermill": {
     "duration": 0.053526,
     "end_time": "2024-03-07T04:12:06.331423",
     "exception": false,
     "start_time": "2024-03-07T04:12:06.277897",
     "status": "completed"
    },
    "tags": []
   },
   "outputs": [],
   "source": [
    "class decoder_block(nn.Module):\n",
    "    def __init__(self, in_channels, out_channels):\n",
    "        super(decoder_block, self).__init__()\n",
    "        \n",
    "        self.transpose_conv = nn.ConvTranspose2d(in_channels, out_channels, kernel_size=2, stride=2)\n",
    "        \n",
    "        self.conv1 = nn.Conv2d(2 * out_channels, out_channels, kernel_size=3, stride=1, padding='same')\n",
    "        self.conv2 = nn.Conv2d(out_channels, out_channels, kernel_size=3, stride=1, padding='same')\n",
    "        \n",
    "        self.bn1 = nn.BatchNorm2d(out_channels)\n",
    "        self.bn2 = nn.BatchNorm2d(out_channels)\n",
    "        \n",
    "        self.relu = nn.ReLU() \n",
    "        self.dropout = nn.Dropout(p=0.3)\n",
    "    \n",
    "    def forward(self, x, skip_layer):\n",
    "        x = self.transpose_conv(x)\n",
    "        x = torch.cat([x, skip_layer], axis=1)\n",
    "        \n",
    "        x = self.conv1(x)\n",
    "        x = self.bn1(x)\n",
    "        x = self.relu(x)\n",
    "        \n",
    "        x = self.dropout(x)\n",
    "        \n",
    "        x = self.conv2(x)\n",
    "        x = self.bn2(x)\n",
    "        x = self.relu(x)\n",
    "        \n",
    "        return x"
   ]
  },
  {
   "cell_type": "code",
   "execution_count": 30,
   "id": "811a363f",
   "metadata": {
    "execution": {
     "iopub.execute_input": "2024-03-07T04:12:06.412729Z",
     "iopub.status.busy": "2024-03-07T04:12:06.412407Z",
     "iopub.status.idle": "2024-03-07T04:12:06.422693Z",
     "shell.execute_reply": "2024-03-07T04:12:06.421815Z"
    },
    "papermill": {
     "duration": 0.053403,
     "end_time": "2024-03-07T04:12:06.424829",
     "exception": false,
     "start_time": "2024-03-07T04:12:06.371426",
     "status": "completed"
    },
    "tags": []
   },
   "outputs": [],
   "source": [
    "class res_decoder_block(nn.Module):\n",
    "    def __init__(self, in_channels, out_channels):\n",
    "        super(res_decoder_block, self).__init__()\n",
    "        \n",
    "        self.transpose_conv = nn.ConvTranspose2d(in_channels, out_channels, kernel_size=2, stride=2)\n",
    "        \n",
    "        self.conv1 = nn.Conv2d(2 * out_channels, out_channels, kernel_size=3, stride=1, padding='same')\n",
    "        self.conv2 = nn.Conv2d(out_channels, out_channels, kernel_size=3, stride=1, padding='same')\n",
    "        \n",
    "        self.bn1 = nn.BatchNorm2d(out_channels)\n",
    "        self.bn2 = nn.BatchNorm2d(out_channels)\n",
    "        \n",
    "        self.bn3 = nn.BatchNorm2d(out_channels)\n",
    "        \n",
    "        self.relu = nn.ReLU() \n",
    "        self.dropout = nn.Dropout(p=0.3)\n",
    "    \n",
    "    def forward(self, x, skip_layer):\n",
    "        x = self.transpose_conv(x)\n",
    "        x = torch.cat([x, skip_layer], axis=1)\n",
    "        \n",
    "        residual = x\n",
    "        \n",
    "        x = self.conv1(x)\n",
    "        x = self.bn1(x)\n",
    "        x = self.relu(x)\n",
    "        \n",
    "        x = self.dropout(x)\n",
    "        \n",
    "        x = self.conv2(x)\n",
    "        x = self.bn2(x)\n",
    "        \n",
    "        residual = self.conv1(residual)\n",
    "        residual = self.bn3(residual)\n",
    "        \n",
    "        x += residual\n",
    "        x = self.relu(x)\n",
    "        \n",
    "        return x"
   ]
  },
  {
   "cell_type": "markdown",
   "id": "670f95a4",
   "metadata": {
    "papermill": {
     "duration": 0.038978,
     "end_time": "2024-03-07T04:12:06.502773",
     "exception": false,
     "start_time": "2024-03-07T04:12:06.463795",
     "status": "completed"
    },
    "tags": []
   },
   "source": [
    "**Bottle neck**"
   ]
  },
  {
   "cell_type": "code",
   "execution_count": 31,
   "id": "385f8123",
   "metadata": {
    "execution": {
     "iopub.execute_input": "2024-03-07T04:12:06.581691Z",
     "iopub.status.busy": "2024-03-07T04:12:06.581336Z",
     "iopub.status.idle": "2024-03-07T04:12:06.589861Z",
     "shell.execute_reply": "2024-03-07T04:12:06.588886Z"
    },
    "papermill": {
     "duration": 0.050863,
     "end_time": "2024-03-07T04:12:06.592147",
     "exception": false,
     "start_time": "2024-03-07T04:12:06.541284",
     "status": "completed"
    },
    "tags": []
   },
   "outputs": [],
   "source": [
    "class bottleneck_block(nn.Module):\n",
    "    def __init__(self, in_channels, out_channels):\n",
    "        super(bottleneck_block, self).__init__()\n",
    "        \n",
    "        self.conv1 = nn.Conv2d(in_channels, out_channels, kernel_size=3, stride=1, padding='same')\n",
    "        self.conv2 = nn.Conv2d(out_channels, out_channels, kernel_size=3, stride=1, padding='same')\n",
    "        \n",
    "        self.bn1 = nn.BatchNorm2d(out_channels)\n",
    "        self.bn2 = nn.BatchNorm2d(out_channels)\n",
    "        \n",
    "        self.relu = nn.ReLU()\n",
    "        self.dropout = nn.Dropout(p=0.3)\n",
    "        \n",
    "    def forward(self, x):\n",
    "        x = self.conv1(x)\n",
    "        x = self.bn1(x)\n",
    "        x = self.relu(x)\n",
    "        \n",
    "        x = self.dropout(x)\n",
    "        \n",
    "        x = self.conv2(x)\n",
    "        x = self.bn2(x)\n",
    "        x = self.relu(x)\n",
    "        \n",
    "        return x"
   ]
  },
  {
   "cell_type": "markdown",
   "id": "17c0ea60",
   "metadata": {
    "papermill": {
     "duration": 0.038732,
     "end_time": "2024-03-07T04:12:06.670164",
     "exception": false,
     "start_time": "2024-03-07T04:12:06.631432",
     "status": "completed"
    },
    "tags": []
   },
   "source": [
    "**Unet model**"
   ]
  },
  {
   "cell_type": "code",
   "execution_count": 32,
   "id": "79efec7f",
   "metadata": {
    "execution": {
     "iopub.execute_input": "2024-03-07T04:12:06.749045Z",
     "iopub.status.busy": "2024-03-07T04:12:06.748451Z",
     "iopub.status.idle": "2024-03-07T04:12:06.758809Z",
     "shell.execute_reply": "2024-03-07T04:12:06.757920Z"
    },
    "papermill": {
     "duration": 0.053162,
     "end_time": "2024-03-07T04:12:06.760975",
     "exception": false,
     "start_time": "2024-03-07T04:12:06.707813",
     "status": "completed"
    },
    "tags": []
   },
   "outputs": [],
   "source": [
    "# UNet model\n",
    "class UNet(nn.Module):\n",
    "    def __init__(self, n_class=3):\n",
    "        super(UNet, self).__init__()\n",
    "        # Encoder blocks\n",
    "        self.enc1 = encoder_block(3, 64)\n",
    "        self.enc2 = encoder_block(64, 128)\n",
    "        self.enc3 = res_encoder_block(128, 256)\n",
    "        self.enc4 = encoder_block(256, 512)\n",
    "        \n",
    "        # Bottleneck block\n",
    "        self.bottleneck = ResidualBlock(512, 1024)\n",
    "        \n",
    "        # Decoder blocks\n",
    "        self.dec1 = decoder_block(1024, 512)\n",
    "        self.dec2 = res_decoder_block(512, 256)\n",
    "        self.dec3 = decoder_block(256, 128)\n",
    "        self.dec4 = decoder_block(128, 64)\n",
    "        \n",
    "        # 1x1 convolution\n",
    "        self.out = nn.Conv2d(64, n_class, kernel_size=1, padding='same')\n",
    "        \n",
    "    def forward(self, image):\n",
    "        n1, s1 = self.enc1(image)\n",
    "        n2, s2 = self.enc2(n1)\n",
    "        n3, s3 = self.enc3(n2)\n",
    "        n4, s4 = self.enc4(n3)\n",
    "        \n",
    "        n5 = self.bottleneck(n4)\n",
    "        \n",
    "        n6 = self.dec1(n5, s4)\n",
    "        n7 = self.dec2(n6, s3)\n",
    "        n8 = self.dec3(n7, s2)\n",
    "        n9 = self.dec4(n8, s1)\n",
    "        \n",
    "        output = self.out(n9)\n",
    "        \n",
    "        return output"
   ]
  },
  {
   "cell_type": "markdown",
   "id": "3f2b55d0",
   "metadata": {
    "papermill": {
     "duration": 0.039584,
     "end_time": "2024-03-07T04:12:06.839766",
     "exception": false,
     "start_time": "2024-03-07T04:12:06.800182",
     "status": "completed"
    },
    "tags": []
   },
   "source": [
    "# Loss function"
   ]
  },
  {
   "cell_type": "code",
   "execution_count": 33,
   "id": "a3b716fe",
   "metadata": {
    "execution": {
     "iopub.execute_input": "2024-03-07T04:12:06.919332Z",
     "iopub.status.busy": "2024-03-07T04:12:06.919016Z",
     "iopub.status.idle": "2024-03-07T04:12:06.931325Z",
     "shell.execute_reply": "2024-03-07T04:12:06.930440Z"
    },
    "papermill": {
     "duration": 0.054353,
     "end_time": "2024-03-07T04:12:06.933437",
     "exception": false,
     "start_time": "2024-03-07T04:12:06.879084",
     "status": "completed"
    },
    "tags": []
   },
   "outputs": [],
   "source": [
    "class CEDiceLoss(nn.Module):\n",
    "    def __init__(self, weights) -> None:\n",
    "        super(CEDiceLoss, self).__init__()\n",
    "        self.eps: float = 1e-6\n",
    "        self.weights: torch.Tensor = weights\n",
    "\n",
    "    def forward(\n",
    "            self,\n",
    "            input: torch.Tensor,\n",
    "            target: torch.Tensor) -> torch.Tensor:\n",
    "        if not torch.is_tensor(input):\n",
    "            raise TypeError(\"Input type is not a torch.Tensor. Got {}\"\n",
    "                            .format(type(input)))\n",
    "        if not len(input.shape) == 4:\n",
    "            raise ValueError(\"Invalid input shape, we expect BxNxHxW. Got: {}\"\n",
    "                             .format(input.shape))\n",
    "        if not input.shape[-2:] == target.shape[-2:]:\n",
    "            raise ValueError(\"input and target shapes must be the same. Got: {}\"\n",
    "                             .format(input.shape, input.shape))\n",
    "        if not input.device == target.device:\n",
    "            raise ValueError(\n",
    "                \"input and target must be in the same device. Got: {}\" .format(\n",
    "                    input.device, target.device))\n",
    "        if not self.weights.shape[1] == input.shape[1]:\n",
    "            raise ValueError(\"The number of weights must equal the number of classes\")\n",
    "        if not torch.sum(self.weights).item() == 1:\n",
    "            raise ValueError(\"The sum of all weights must equal 1\")\n",
    "            \n",
    "        # cross entropy loss\n",
    "        celoss = nn.CrossEntropyLoss(self.weights)(input, target)\n",
    "        \n",
    "        # compute softmax over the classes axis\n",
    "        input_soft = F.softmax(input, dim=1)\n",
    "\n",
    "        # create the labels one hot tensor\n",
    "        target_one_hot = one_hot(target, num_classes=input.shape[1],\n",
    "                                 device=input.device, dtype=input.dtype)\n",
    "\n",
    "        # compute the actual dice score\n",
    "        dims = (2, 3)\n",
    "        intersection = torch.sum(input_soft * target_one_hot, dims)\n",
    "        cardinality = torch.sum(input_soft + target_one_hot, dims)\n",
    "\n",
    "        dice_score = 2. * intersection / (cardinality + self.eps)\n",
    "        \n",
    "        dice_score = torch.sum(dice_score * self.weights, dim=1)\n",
    "        \n",
    "        return torch.mean(1. - dice_score) + celoss\n",
    "#         return dice_score"
   ]
  },
  {
   "cell_type": "markdown",
   "id": "2f11e122",
   "metadata": {
    "papermill": {
     "duration": 0.037855,
     "end_time": "2024-03-07T04:12:07.010034",
     "exception": false,
     "start_time": "2024-03-07T04:12:06.972179",
     "status": "completed"
    },
    "tags": []
   },
   "source": [
    "# Training"
   ]
  },
  {
   "cell_type": "markdown",
   "id": "53a64be8",
   "metadata": {
    "papermill": {
     "duration": 0.037153,
     "end_time": "2024-03-07T04:12:07.085066",
     "exception": false,
     "start_time": "2024-03-07T04:12:07.047913",
     "status": "completed"
    },
    "tags": []
   },
   "source": [
    "**Initialize weights**"
   ]
  },
  {
   "cell_type": "code",
   "execution_count": 34,
   "id": "47d02f10",
   "metadata": {
    "execution": {
     "iopub.execute_input": "2024-03-07T04:12:07.161747Z",
     "iopub.status.busy": "2024-03-07T04:12:07.161064Z",
     "iopub.status.idle": "2024-03-07T04:12:07.165936Z",
     "shell.execute_reply": "2024-03-07T04:12:07.165008Z"
    },
    "papermill": {
     "duration": 0.046408,
     "end_time": "2024-03-07T04:12:07.168066",
     "exception": false,
     "start_time": "2024-03-07T04:12:07.121658",
     "status": "completed"
    },
    "tags": []
   },
   "outputs": [],
   "source": [
    "def weights_init(model):\n",
    "    if isinstance(model, nn.Linear):\n",
    "        # Xavier Distribution\n",
    "        torch.nn.init.xavier_uniform_(model.weight)"
   ]
  },
  {
   "cell_type": "code",
   "execution_count": 35,
   "id": "2efe7512",
   "metadata": {
    "execution": {
     "iopub.execute_input": "2024-03-07T04:12:07.245245Z",
     "iopub.status.busy": "2024-03-07T04:12:07.244921Z",
     "iopub.status.idle": "2024-03-07T04:12:07.250920Z",
     "shell.execute_reply": "2024-03-07T04:12:07.250093Z"
    },
    "papermill": {
     "duration": 0.046317,
     "end_time": "2024-03-07T04:12:07.252764",
     "exception": false,
     "start_time": "2024-03-07T04:12:07.206447",
     "status": "completed"
    },
    "tags": []
   },
   "outputs": [],
   "source": [
    "def save_model(model, optimizer, path):\n",
    "    checkpoint = {\n",
    "        \"model\": model.state_dict(),\n",
    "        \"optimizer\": optimizer.state_dict(),\n",
    "    }\n",
    "    torch.save(checkpoint, path)\n",
    "\n",
    "def load_model(model, optimizer, path):\n",
    "    checkpoint = torch.load(path)\n",
    "    model.load_state_dict(checkpoint[\"model\"])\n",
    "    optimizer.load_state_dict(checkpoint['optimizer'])\n",
    "    return model, optimizer"
   ]
  },
  {
   "cell_type": "markdown",
   "id": "2ae04343",
   "metadata": {
    "papermill": {
     "duration": 0.036084,
     "end_time": "2024-03-07T04:12:07.326345",
     "exception": false,
     "start_time": "2024-03-07T04:12:07.290261",
     "status": "completed"
    },
    "tags": []
   },
   "source": [
    "**Train model**"
   ]
  },
  {
   "cell_type": "code",
   "execution_count": 36,
   "id": "1f9edb1f",
   "metadata": {
    "execution": {
     "iopub.execute_input": "2024-03-07T04:12:07.401129Z",
     "iopub.status.busy": "2024-03-07T04:12:07.400781Z",
     "iopub.status.idle": "2024-03-07T04:12:07.412006Z",
     "shell.execute_reply": "2024-03-07T04:12:07.411307Z"
    },
    "papermill": {
     "duration": 0.050915,
     "end_time": "2024-03-07T04:12:07.413969",
     "exception": false,
     "start_time": "2024-03-07T04:12:07.363054",
     "status": "completed"
    },
    "tags": []
   },
   "outputs": [],
   "source": [
    "# Train function for each epoch\n",
    "def train(train_dataloader, valid_dataloader,learing_rate_scheduler, epoch, display_step):\n",
    "    print(f\"Start epoch #{epoch+1}, learning rate for this epoch: {learing_rate_scheduler.get_last_lr()}\")\n",
    "    start_time = time.time()\n",
    "    train_loss_epoch = 0\n",
    "    test_loss_epoch = 0\n",
    "    last_loss = 999999999\n",
    "    model.train()\n",
    "    for i, (data,targets) in enumerate(train_dataloader):\n",
    "        \n",
    "        # Load data into GPU\n",
    "        data, targets = data.to(device), targets.to(device)\n",
    "\n",
    "        optimizer.zero_grad()\n",
    "        outputs = model(data)\n",
    "\n",
    "        # Backpropagation, compute gradients\n",
    "        loss = loss_function(outputs, targets.long())\n",
    "        loss.backward()\n",
    "\n",
    "        # Apply gradients\n",
    "        optimizer.step()\n",
    "        \n",
    "        # Save loss\n",
    "        train_loss_epoch += loss.item()\n",
    "        if (i+1) % display_step == 0:\n",
    "#             accuracy = float(test(test_loader))\n",
    "            print('Train Epoch: {} [{}/{} ({}%)]\\tLoss: {:.4f}'.format(\n",
    "                epoch + 1, (i+1) * len(data), len(train_dataloader.dataset), 100 * (i+1) * len(data) / len(train_dataloader.dataset), \n",
    "                loss.item()))\n",
    "                  \n",
    "    print(f\"Done epoch #{epoch+1}, time for this epoch: {time.time()-start_time}s\")\n",
    "    train_loss_epoch/= (i + 1)\n",
    "    \n",
    "    # Evaluate the validation set\n",
    "    model.eval()\n",
    "    with torch.no_grad():\n",
    "        for data, target in valid_dataloader:\n",
    "            data, target = data.to(device), target.to(device)\n",
    "            test_output = model(data)\n",
    "            test_loss = loss_function(test_output, target)\n",
    "            test_loss_epoch += test_loss.item()\n",
    "            \n",
    "    test_loss_epoch/= (i+1)\n",
    "    \n",
    "    return train_loss_epoch , test_loss_epoch"
   ]
  },
  {
   "cell_type": "code",
   "execution_count": 37,
   "id": "346532d7",
   "metadata": {
    "execution": {
     "iopub.execute_input": "2024-03-07T04:12:07.490103Z",
     "iopub.status.busy": "2024-03-07T04:12:07.489393Z",
     "iopub.status.idle": "2024-03-07T04:12:07.496082Z",
     "shell.execute_reply": "2024-03-07T04:12:07.495110Z"
    },
    "papermill": {
     "duration": 0.047598,
     "end_time": "2024-03-07T04:12:07.498146",
     "exception": false,
     "start_time": "2024-03-07T04:12:07.450548",
     "status": "completed"
    },
    "tags": []
   },
   "outputs": [],
   "source": [
    "# Test function\n",
    "def test(dataloader):\n",
    "    test_loss = 0\n",
    "    correct = 0\n",
    "    with torch.no_grad():\n",
    "        for i, (data, targets) in enumerate(dataloader):\n",
    "            data, targets = data.to(device), targets.to(device)\n",
    "            outputs = model(data)\n",
    "            _, pred = torch.max(outputs, 1)\n",
    "            test_loss += targets.size(0)\n",
    "            correct += torch.sum(pred == targets).item()\n",
    "    return 100.0 * correct / test_loss"
   ]
  },
  {
   "cell_type": "code",
   "execution_count": 38,
   "id": "f98c47a2",
   "metadata": {
    "execution": {
     "iopub.execute_input": "2024-03-07T04:12:07.570810Z",
     "iopub.status.busy": "2024-03-07T04:12:07.570512Z",
     "iopub.status.idle": "2024-03-07T04:12:07.866502Z",
     "shell.execute_reply": "2024-03-07T04:12:07.865687Z"
    },
    "papermill": {
     "duration": 0.335196,
     "end_time": "2024-03-07T04:12:07.868837",
     "exception": false,
     "start_time": "2024-03-07T04:12:07.533641",
     "status": "completed"
    },
    "tags": []
   },
   "outputs": [],
   "source": [
    "# model = Unet(in_channels=3, num_classes = 3)\n",
    "\n",
    "try:\n",
    "    checkpoint = torch.load(pretrained_path)\n",
    "\n",
    "    new_state_dict = OrderedDict()\n",
    "    for k, v in checkpoint['model'].items():\n",
    "        name = k[7:] # remove `module.`\n",
    "        new_state_dict[name] = v\n",
    "    # load params\n",
    "    model.load_state_dict(new_state_dict)\n",
    "    model = nn.DataParallel(model)\n",
    "    model.to(device)\n",
    "except:\n",
    "    model.apply(weights_init)\n",
    "    model = nn.DataParallel(model)\n",
    "    model.to(device)"
   ]
  },
  {
   "cell_type": "code",
   "execution_count": null,
   "id": "57e7bdc0",
   "metadata": {
    "papermill": {
     "duration": 0.033866,
     "end_time": "2024-03-07T04:12:07.937475",
     "exception": false,
     "start_time": "2024-03-07T04:12:07.903609",
     "status": "completed"
    },
    "tags": []
   },
   "outputs": [],
   "source": []
  },
  {
   "cell_type": "code",
   "execution_count": 39,
   "id": "01e96d7e",
   "metadata": {
    "execution": {
     "iopub.execute_input": "2024-03-07T04:12:08.007168Z",
     "iopub.status.busy": "2024-03-07T04:12:08.006808Z",
     "iopub.status.idle": "2024-03-07T04:12:08.015331Z",
     "shell.execute_reply": "2024-03-07T04:12:08.014453Z"
    },
    "papermill": {
     "duration": 0.045888,
     "end_time": "2024-03-07T04:12:08.017675",
     "exception": false,
     "start_time": "2024-03-07T04:12:07.971787",
     "status": "completed"
    },
    "tags": []
   },
   "outputs": [],
   "source": [
    "weights = torch.Tensor([[0.4, 0.55, 0.05]]).cuda()\n",
    "loss_function = CEDiceLoss(weights)\n",
    "\n",
    "# Define the optimizer (Adam optimizer)\n",
    "optimizer = optim.Adam(params=model.parameters(), lr=learning_rate)\n",
    "try: \n",
    "    optimizer.load_state_dict(checkpoint['optimizer'])\n",
    "except:\n",
    "    pass\n",
    "\n",
    "# Learning rate scheduler\n",
    "learing_rate_scheduler = lr_scheduler.StepLR(optimizer, step_size=4, gamma=0.6)"
   ]
  },
  {
   "cell_type": "code",
   "execution_count": 40,
   "id": "0b561141",
   "metadata": {
    "execution": {
     "iopub.execute_input": "2024-03-07T04:12:08.086870Z",
     "iopub.status.busy": "2024-03-07T04:12:08.086531Z",
     "iopub.status.idle": "2024-03-07T04:12:08.650674Z",
     "shell.execute_reply": "2024-03-07T04:12:08.649705Z"
    },
    "papermill": {
     "duration": 0.601426,
     "end_time": "2024-03-07T04:12:08.653106",
     "exception": false,
     "start_time": "2024-03-07T04:12:08.051680",
     "status": "completed"
    },
    "tags": []
   },
   "outputs": [],
   "source": [
    "save_model(model, optimizer, checkpoint_path)"
   ]
  },
  {
   "cell_type": "code",
   "execution_count": 41,
   "id": "711e14b7",
   "metadata": {
    "execution": {
     "iopub.execute_input": "2024-03-07T04:12:08.723522Z",
     "iopub.status.busy": "2024-03-07T04:12:08.723212Z",
     "iopub.status.idle": "2024-03-07T05:10:17.777270Z",
     "shell.execute_reply": "2024-03-07T05:10:17.776134Z"
    },
    "papermill": {
     "duration": 3489.091845,
     "end_time": "2024-03-07T05:10:17.779727",
     "exception": false,
     "start_time": "2024-03-07T04:12:08.687882",
     "status": "completed"
    },
    "tags": []
   },
   "outputs": [
    {
     "name": "stderr",
     "output_type": "stream",
     "text": [
      "\u001b[34m\u001b[1mwandb\u001b[0m: W&B API key is configured. Use \u001b[1m`wandb login --relogin`\u001b[0m to force relogin\n",
      "\u001b[34m\u001b[1mwandb\u001b[0m: \u001b[33mWARNING\u001b[0m If you're specifying your api key in code, ensure this code is not shared publicly.\n",
      "\u001b[34m\u001b[1mwandb\u001b[0m: \u001b[33mWARNING\u001b[0m Consider setting the WANDB_API_KEY environment variable, or running `wandb login` from the command line.\n",
      "\u001b[34m\u001b[1mwandb\u001b[0m: Appending key for api.wandb.ai to your netrc file: /root/.netrc\n",
      "\u001b[34m\u001b[1mwandb\u001b[0m: Currently logged in as: \u001b[33mquockhoalma\u001b[0m (\u001b[33ml1234kl\u001b[0m). Use \u001b[1m`wandb login --relogin`\u001b[0m to force relogin\n",
      "\u001b[34m\u001b[1mwandb\u001b[0m: wandb version 0.16.4 is available!  To upgrade, please run:\n",
      "\u001b[34m\u001b[1mwandb\u001b[0m:  $ pip install wandb --upgrade\n",
      "\u001b[34m\u001b[1mwandb\u001b[0m: Tracking run with wandb version 0.16.0\n",
      "\u001b[34m\u001b[1mwandb\u001b[0m: Run data is saved locally in \u001b[35m\u001b[1m/kaggle/working/wandb/run-20240307_041210-5t9n6zhn\u001b[0m\n",
      "\u001b[34m\u001b[1mwandb\u001b[0m: Run \u001b[1m`wandb offline`\u001b[0m to turn off syncing.\n",
      "\u001b[34m\u001b[1mwandb\u001b[0m: Syncing run \u001b[33mgentle-haze-9\u001b[0m\n",
      "\u001b[34m\u001b[1mwandb\u001b[0m: ⭐️ View project at \u001b[34m\u001b[4mhttps://wandb.ai/l1234kl/Unet_polyp-Segmentation\u001b[0m\n",
      "\u001b[34m\u001b[1mwandb\u001b[0m: 🚀 View run at \u001b[34m\u001b[4mhttps://wandb.ai/l1234kl/Unet_polyp-Segmentation/runs/5t9n6zhn\u001b[0m\n"
     ]
    },
    {
     "name": "stdout",
     "output_type": "stream",
     "text": [
      "Start epoch #1, learning rate for this epoch: [0.0001]\n",
      "Train Epoch: 1 [200/900 (22.22222222222222%)]\tLoss: 1.6094\n",
      "Train Epoch: 1 [400/900 (44.44444444444444%)]\tLoss: 1.1693\n",
      "Train Epoch: 1 [600/900 (66.66666666666667%)]\tLoss: 1.3859\n",
      "Train Epoch: 1 [800/900 (88.88888888888889%)]\tLoss: 0.8889\n",
      "Done epoch #1, time for this epoch: 344.443240404129s\n",
      "Start epoch #2, learning rate for this epoch: [0.0001]\n",
      "Train Epoch: 2 [200/900 (22.22222222222222%)]\tLoss: 0.8148\n",
      "Train Epoch: 2 [400/900 (44.44444444444444%)]\tLoss: 0.9830\n",
      "Train Epoch: 2 [600/900 (66.66666666666667%)]\tLoss: 0.9010\n",
      "Train Epoch: 2 [800/900 (88.88888888888889%)]\tLoss: 1.0375\n",
      "Done epoch #2, time for this epoch: 327.1439242362976s\n",
      "Start epoch #3, learning rate for this epoch: [0.0001]\n",
      "Train Epoch: 3 [200/900 (22.22222222222222%)]\tLoss: 0.8454\n",
      "Train Epoch: 3 [400/900 (44.44444444444444%)]\tLoss: 1.0711\n",
      "Train Epoch: 3 [600/900 (66.66666666666667%)]\tLoss: 0.6938\n",
      "Train Epoch: 3 [800/900 (88.88888888888889%)]\tLoss: 0.8797\n",
      "Done epoch #3, time for this epoch: 327.22076320648193s\n",
      "Start epoch #4, learning rate for this epoch: [0.0001]\n",
      "Train Epoch: 4 [200/900 (22.22222222222222%)]\tLoss: 0.7071\n",
      "Train Epoch: 4 [400/900 (44.44444444444444%)]\tLoss: 0.8569\n",
      "Train Epoch: 4 [600/900 (66.66666666666667%)]\tLoss: 0.6949\n",
      "Train Epoch: 4 [800/900 (88.88888888888889%)]\tLoss: 0.8679\n",
      "Done epoch #4, time for this epoch: 328.0201482772827s\n",
      "Start epoch #5, learning rate for this epoch: [6e-05]\n",
      "Train Epoch: 5 [200/900 (22.22222222222222%)]\tLoss: 0.6777\n",
      "Train Epoch: 5 [400/900 (44.44444444444444%)]\tLoss: 0.6371\n",
      "Train Epoch: 5 [600/900 (66.66666666666667%)]\tLoss: 0.8279\n",
      "Train Epoch: 5 [800/900 (88.88888888888889%)]\tLoss: 0.7316\n",
      "Done epoch #5, time for this epoch: 326.5674431324005s\n",
      "Start epoch #6, learning rate for this epoch: [6e-05]\n",
      "Train Epoch: 6 [200/900 (22.22222222222222%)]\tLoss: 0.7104\n",
      "Train Epoch: 6 [400/900 (44.44444444444444%)]\tLoss: 0.6059\n",
      "Train Epoch: 6 [600/900 (66.66666666666667%)]\tLoss: 0.6297\n",
      "Train Epoch: 6 [800/900 (88.88888888888889%)]\tLoss: 0.6156\n",
      "Done epoch #6, time for this epoch: 327.68591260910034s\n",
      "Start epoch #7, learning rate for this epoch: [6e-05]\n",
      "Train Epoch: 7 [200/900 (22.22222222222222%)]\tLoss: 0.6641\n",
      "Train Epoch: 7 [400/900 (44.44444444444444%)]\tLoss: 0.5591\n",
      "Train Epoch: 7 [600/900 (66.66666666666667%)]\tLoss: 0.6978\n",
      "Train Epoch: 7 [800/900 (88.88888888888889%)]\tLoss: 0.5893\n",
      "Done epoch #7, time for this epoch: 326.8458433151245s\n",
      "Start epoch #8, learning rate for this epoch: [6e-05]\n",
      "Train Epoch: 8 [200/900 (22.22222222222222%)]\tLoss: 1.0001\n",
      "Train Epoch: 8 [400/900 (44.44444444444444%)]\tLoss: 0.7848\n",
      "Train Epoch: 8 [600/900 (66.66666666666667%)]\tLoss: 0.6610\n",
      "Train Epoch: 8 [800/900 (88.88888888888889%)]\tLoss: 0.6467\n",
      "Done epoch #8, time for this epoch: 327.70053005218506s\n",
      "Start epoch #9, learning rate for this epoch: [3.6e-05]\n",
      "Train Epoch: 9 [200/900 (22.22222222222222%)]\tLoss: 0.6111\n",
      "Train Epoch: 9 [400/900 (44.44444444444444%)]\tLoss: 0.5528\n",
      "Train Epoch: 9 [600/900 (66.66666666666667%)]\tLoss: 0.6223\n",
      "Train Epoch: 9 [800/900 (88.88888888888889%)]\tLoss: 0.6032\n",
      "Done epoch #9, time for this epoch: 329.2200872898102s\n",
      "Start epoch #10, learning rate for this epoch: [3.6e-05]\n",
      "Train Epoch: 10 [200/900 (22.22222222222222%)]\tLoss: 0.4785\n",
      "Train Epoch: 10 [400/900 (44.44444444444444%)]\tLoss: 0.5246\n",
      "Train Epoch: 10 [600/900 (66.66666666666667%)]\tLoss: 0.6554\n",
      "Train Epoch: 10 [800/900 (88.88888888888889%)]\tLoss: 0.5715\n",
      "Done epoch #10, time for this epoch: 327.8792304992676s\n"
     ]
    }
   ],
   "source": [
    "wandb.login(\n",
    "    # set the wandb project where this run will be logged\n",
    "#     project= \"PolypSegment\", \n",
    "    key = 'cee1c832e904beaac5be683d72ce3d52c4503440',\n",
    ")\n",
    "wandb.init(\n",
    "    project = \"Unet_polyp-Segmentation\"\n",
    ")\n",
    "# Training loop\n",
    "train_loss_array = []\n",
    "test_loss_array = []\n",
    "last_loss = 9999999999999\n",
    "for epoch in range(epochs):\n",
    "    train_loss_epoch = 0\n",
    "    test_loss_epoch = 0\n",
    "    (train_loss_epoch, test_loss_epoch) = train(train_dataloader, \n",
    "                                              valid_dataloader, \n",
    "                                              learing_rate_scheduler, epoch, display_step)\n",
    "    \n",
    "    if test_loss_epoch < last_loss:\n",
    "        save_model(model, optimizer, checkpoint_path)\n",
    "        last_loss = test_loss_epoch\n",
    "        \n",
    "    learing_rate_scheduler.step()\n",
    "    train_loss_array.append(train_loss_epoch)\n",
    "    test_loss_array.append(test_loss_epoch)\n",
    "    wandb.log({\"Train loss\": train_loss_epoch, \"Valid loss\": test_loss_epoch})\n",
    "#     train_accuracy.append(test(train_loader))\n",
    "#     valid_accuracy.append(test(test_loader))\n",
    "#     print(\"Epoch {}: loss: {:.4f}, train accuracy: {:.4f}, valid accuracy:{:.4f}\".format(epoch + 1, \n",
    "#                                         train_loss_array[-1], train_accuracy[-1], valid_accuracy[-1]))"
   ]
  },
  {
   "cell_type": "code",
   "execution_count": 42,
   "id": "9fe6df23",
   "metadata": {
    "execution": {
     "iopub.execute_input": "2024-03-07T05:10:17.864354Z",
     "iopub.status.busy": "2024-03-07T05:10:17.863989Z",
     "iopub.status.idle": "2024-03-07T05:10:17.868226Z",
     "shell.execute_reply": "2024-03-07T05:10:17.867392Z"
    },
    "papermill": {
     "duration": 0.049056,
     "end_time": "2024-03-07T05:10:17.870173",
     "exception": false,
     "start_time": "2024-03-07T05:10:17.821117",
     "status": "completed"
    },
    "tags": []
   },
   "outputs": [],
   "source": [
    "# torch.cuda.empty_cache()"
   ]
  },
  {
   "cell_type": "code",
   "execution_count": 43,
   "id": "21661900",
   "metadata": {
    "execution": {
     "iopub.execute_input": "2024-03-07T05:10:17.951907Z",
     "iopub.status.busy": "2024-03-07T05:10:17.951603Z",
     "iopub.status.idle": "2024-03-07T05:10:17.955509Z",
     "shell.execute_reply": "2024-03-07T05:10:17.954664Z"
    },
    "papermill": {
     "duration": 0.047076,
     "end_time": "2024-03-07T05:10:17.957423",
     "exception": false,
     "start_time": "2024-03-07T05:10:17.910347",
     "status": "completed"
    },
    "tags": []
   },
   "outputs": [],
   "source": [
    "# save_model(model, optimizer, checkpoint_path)"
   ]
  },
  {
   "cell_type": "code",
   "execution_count": 44,
   "id": "b6ddb83e",
   "metadata": {
    "execution": {
     "iopub.execute_input": "2024-03-07T05:10:18.037702Z",
     "iopub.status.busy": "2024-03-07T05:10:18.037419Z",
     "iopub.status.idle": "2024-03-07T05:10:18.041100Z",
     "shell.execute_reply": "2024-03-07T05:10:18.040283Z"
    },
    "papermill": {
     "duration": 0.046022,
     "end_time": "2024-03-07T05:10:18.043002",
     "exception": false,
     "start_time": "2024-03-07T05:10:17.996980",
     "status": "completed"
    },
    "tags": []
   },
   "outputs": [],
   "source": [
    "# checkpoint = torch.load(pretrained_path)"
   ]
  },
  {
   "cell_type": "code",
   "execution_count": 45,
   "id": "edead6bc",
   "metadata": {
    "execution": {
     "iopub.execute_input": "2024-03-07T05:10:18.125430Z",
     "iopub.status.busy": "2024-03-07T05:10:18.124648Z",
     "iopub.status.idle": "2024-03-07T05:10:18.128516Z",
     "shell.execute_reply": "2024-03-07T05:10:18.127845Z"
    },
    "papermill": {
     "duration": 0.0476,
     "end_time": "2024-03-07T05:10:18.130366",
     "exception": false,
     "start_time": "2024-03-07T05:10:18.082766",
     "status": "completed"
    },
    "tags": []
   },
   "outputs": [],
   "source": [
    "# checkpoint = torch.load(checkpoint_path)"
   ]
  },
  {
   "cell_type": "code",
   "execution_count": 46,
   "id": "48c1a163",
   "metadata": {
    "execution": {
     "iopub.execute_input": "2024-03-07T05:10:18.211871Z",
     "iopub.status.busy": "2024-03-07T05:10:18.211563Z",
     "iopub.status.idle": "2024-03-07T05:10:18.215065Z",
     "shell.execute_reply": "2024-03-07T05:10:18.214369Z"
    },
    "papermill": {
     "duration": 0.047133,
     "end_time": "2024-03-07T05:10:18.217038",
     "exception": false,
     "start_time": "2024-03-07T05:10:18.169905",
     "status": "completed"
    },
    "tags": []
   },
   "outputs": [],
   "source": [
    "# for m in self.children():\n",
    "#     m.cuda()\n",
    "#     x = m(x)\n",
    "#     m.cpu()\n",
    "#     torch.cuda.empty_cache()"
   ]
  },
  {
   "cell_type": "markdown",
   "id": "b5397a4c",
   "metadata": {
    "papermill": {
     "duration": 0.039528,
     "end_time": "2024-03-07T05:10:18.296222",
     "exception": false,
     "start_time": "2024-03-07T05:10:18.256694",
     "status": "completed"
    },
    "tags": []
   },
   "source": [
    "# Plot the learning cure"
   ]
  },
  {
   "cell_type": "code",
   "execution_count": 47,
   "id": "96815ec4",
   "metadata": {
    "execution": {
     "iopub.execute_input": "2024-03-07T05:10:18.376870Z",
     "iopub.status.busy": "2024-03-07T05:10:18.376538Z",
     "iopub.status.idle": "2024-03-07T05:10:18.380280Z",
     "shell.execute_reply": "2024-03-07T05:10:18.379431Z"
    },
    "papermill": {
     "duration": 0.046289,
     "end_time": "2024-03-07T05:10:18.382199",
     "exception": false,
     "start_time": "2024-03-07T05:10:18.335910",
     "status": "completed"
    },
    "tags": []
   },
   "outputs": [],
   "source": [
    "# load_model(model, checkpoint)"
   ]
  },
  {
   "cell_type": "code",
   "execution_count": 48,
   "id": "6325b551",
   "metadata": {
    "execution": {
     "iopub.execute_input": "2024-03-07T05:10:18.462427Z",
     "iopub.status.busy": "2024-03-07T05:10:18.462133Z",
     "iopub.status.idle": "2024-03-07T05:10:18.465895Z",
     "shell.execute_reply": "2024-03-07T05:10:18.465168Z"
    },
    "papermill": {
     "duration": 0.045992,
     "end_time": "2024-03-07T05:10:18.467702",
     "exception": false,
     "start_time": "2024-03-07T05:10:18.421710",
     "status": "completed"
    },
    "tags": []
   },
   "outputs": [],
   "source": [
    "# plt.rcParams['figure.dpi'] = 90\n",
    "# plt.rcParams['figure.figsize'] = (6, 4)\n",
    "# epochs_array = range(epochs)"
   ]
  },
  {
   "cell_type": "code",
   "execution_count": 49,
   "id": "bea23d70",
   "metadata": {
    "execution": {
     "iopub.execute_input": "2024-03-07T05:10:18.547878Z",
     "iopub.status.busy": "2024-03-07T05:10:18.547534Z",
     "iopub.status.idle": "2024-03-07T05:10:18.551543Z",
     "shell.execute_reply": "2024-03-07T05:10:18.550689Z"
    },
    "papermill": {
     "duration": 0.046033,
     "end_time": "2024-03-07T05:10:18.553439",
     "exception": false,
     "start_time": "2024-03-07T05:10:18.507406",
     "status": "completed"
    },
    "tags": []
   },
   "outputs": [],
   "source": [
    "# # Plot Training and Test loss\n",
    "# plt.plot(epochs_array, train_loss_array, 'g', label='Training loss')\n",
    "# # plt.plot(epochs_array, test_loss_array, 'b', label='Test loss')\n",
    "# plt.title('Training and Test loss')\n",
    "# plt.xlabel('Epochs')\n",
    "# plt.ylabel('Loss')\n",
    "# plt.legend()\n",
    "# plt.show()"
   ]
  },
  {
   "cell_type": "markdown",
   "id": "8970f5ed",
   "metadata": {
    "papermill": {
     "duration": 0.03921,
     "end_time": "2024-03-07T05:10:18.631923",
     "exception": false,
     "start_time": "2024-03-07T05:10:18.592713",
     "status": "completed"
    },
    "tags": []
   },
   "source": [
    "**Infer**"
   ]
  },
  {
   "cell_type": "code",
   "execution_count": 50,
   "id": "1339f6a3",
   "metadata": {
    "execution": {
     "iopub.execute_input": "2024-03-07T05:10:18.713595Z",
     "iopub.status.busy": "2024-03-07T05:10:18.713282Z",
     "iopub.status.idle": "2024-03-07T05:10:18.717559Z",
     "shell.execute_reply": "2024-03-07T05:10:18.716633Z"
    },
    "papermill": {
     "duration": 0.047794,
     "end_time": "2024-03-07T05:10:18.719663",
     "exception": false,
     "start_time": "2024-03-07T05:10:18.671869",
     "status": "completed"
    },
    "tags": []
   },
   "outputs": [],
   "source": [
    "# from torch.jit import load\n",
    "# model = UNet()\n",
    "# optimizer = optim.Adam(params=model.parameters(), lr=learning_rate)\n",
    "\n",
    "# checkpoint = torch.load(pretrained_path)"
   ]
  },
  {
   "cell_type": "code",
   "execution_count": 51,
   "id": "4fa0808c",
   "metadata": {
    "execution": {
     "iopub.execute_input": "2024-03-07T05:10:18.801809Z",
     "iopub.status.busy": "2024-03-07T05:10:18.801132Z",
     "iopub.status.idle": "2024-03-07T05:10:18.805131Z",
     "shell.execute_reply": "2024-03-07T05:10:18.804307Z"
    },
    "papermill": {
     "duration": 0.046461,
     "end_time": "2024-03-07T05:10:18.806999",
     "exception": false,
     "start_time": "2024-03-07T05:10:18.760538",
     "status": "completed"
    },
    "tags": []
   },
   "outputs": [],
   "source": [
    "# optimizer.load_state_dict(checkpoint['optimizer'])"
   ]
  },
  {
   "cell_type": "code",
   "execution_count": 52,
   "id": "97b86b41",
   "metadata": {
    "execution": {
     "iopub.execute_input": "2024-03-07T05:10:18.887845Z",
     "iopub.status.busy": "2024-03-07T05:10:18.887173Z",
     "iopub.status.idle": "2024-03-07T05:10:18.891100Z",
     "shell.execute_reply": "2024-03-07T05:10:18.890262Z"
    },
    "papermill": {
     "duration": 0.045893,
     "end_time": "2024-03-07T05:10:18.892962",
     "exception": false,
     "start_time": "2024-03-07T05:10:18.847069",
     "status": "completed"
    },
    "tags": []
   },
   "outputs": [],
   "source": [
    "# from collections import OrderedDict\n",
    "# new_state_dict = OrderedDict()\n",
    "# for k, v in checkpoint['model'].items():\n",
    "#     name = k[7:] # remove `module.`\n",
    "#     new_state_dict[name] = v\n",
    "# # load params\n",
    "# model.load_state_dict(new_state_dict)"
   ]
  },
  {
   "cell_type": "code",
   "execution_count": null,
   "id": "44b1cb44",
   "metadata": {
    "papermill": {
     "duration": 0.04034,
     "end_time": "2024-03-07T05:10:18.973668",
     "exception": false,
     "start_time": "2024-03-07T05:10:18.933328",
     "status": "completed"
    },
    "tags": []
   },
   "outputs": [],
   "source": []
  },
  {
   "cell_type": "markdown",
   "id": "b0adf8a2",
   "metadata": {
    "papermill": {
     "duration": 0.039384,
     "end_time": "2024-03-07T05:10:19.052602",
     "exception": false,
     "start_time": "2024-03-07T05:10:19.013218",
     "status": "completed"
    },
    "tags": []
   },
   "source": [
    "**Visualize results**"
   ]
  },
  {
   "cell_type": "code",
   "execution_count": 53,
   "id": "3dc87c5a",
   "metadata": {
    "execution": {
     "iopub.execute_input": "2024-03-07T05:10:19.139156Z",
     "iopub.status.busy": "2024-03-07T05:10:19.138439Z",
     "iopub.status.idle": "2024-03-07T05:10:19.142437Z",
     "shell.execute_reply": "2024-03-07T05:10:19.141576Z"
    },
    "papermill": {
     "duration": 0.052239,
     "end_time": "2024-03-07T05:10:19.144459",
     "exception": false,
     "start_time": "2024-03-07T05:10:19.092220",
     "status": "completed"
    },
    "tags": []
   },
   "outputs": [],
   "source": [
    "# for i, (data, label) in enumerate(train_dataloader):\n",
    "#     img = data\n",
    "#     mask = label\n",
    "#     break"
   ]
  },
  {
   "cell_type": "code",
   "execution_count": 54,
   "id": "de53b315",
   "metadata": {
    "execution": {
     "iopub.execute_input": "2024-03-07T05:10:19.225922Z",
     "iopub.status.busy": "2024-03-07T05:10:19.225154Z",
     "iopub.status.idle": "2024-03-07T05:10:19.229920Z",
     "shell.execute_reply": "2024-03-07T05:10:19.229083Z"
    },
    "papermill": {
     "duration": 0.047587,
     "end_time": "2024-03-07T05:10:19.231760",
     "exception": false,
     "start_time": "2024-03-07T05:10:19.184173",
     "status": "completed"
    },
    "tags": []
   },
   "outputs": [],
   "source": [
    "# fig, arr = plt.subplots(4, 3, figsize=(16, 12))\n",
    "# arr[0][0].set_title('Image')\n",
    "# arr[0][1].set_title('Segmentation')\n",
    "# arr[0][2].set_title('Predict')\n",
    "\n",
    "# model.eval()\n",
    "# with torch.no_grad():\n",
    "#     predict = model(img)\n",
    "\n",
    "# for i in range(4):\n",
    "#     arr[i][0].imshow(img[i].permute(1, 2, 0));\n",
    "    \n",
    "#     arr[i][1].imshow(F.one_hot(mask[i]).float())\n",
    "    \n",
    "#     arr[i][2].imshow(F.one_hot(torch.argmax(predict[i], 0).cpu()).float())"
   ]
  },
  {
   "cell_type": "markdown",
   "id": "36754726",
   "metadata": {
    "papermill": {
     "duration": 0.040338,
     "end_time": "2024-03-07T05:10:19.312218",
     "exception": false,
     "start_time": "2024-03-07T05:10:19.271880",
     "status": "completed"
    },
    "tags": []
   },
   "source": [
    "**Create submission**"
   ]
  },
  {
   "cell_type": "code",
   "execution_count": 55,
   "id": "eb70bdb7",
   "metadata": {
    "execution": {
     "iopub.execute_input": "2024-03-07T05:10:19.399682Z",
     "iopub.status.busy": "2024-03-07T05:10:19.399012Z",
     "iopub.status.idle": "2024-03-07T05:10:19.403338Z",
     "shell.execute_reply": "2024-03-07T05:10:19.402359Z"
    },
    "papermill": {
     "duration": 0.050642,
     "end_time": "2024-03-07T05:10:19.405423",
     "exception": false,
     "start_time": "2024-03-07T05:10:19.354781",
     "status": "completed"
    },
    "tags": []
   },
   "outputs": [],
   "source": [
    "# transform = Compose([Resize((800, 1120), interpolation=InterpolationMode.BILINEAR),\n",
    "#                      PILToTensor()])"
   ]
  },
  {
   "cell_type": "code",
   "execution_count": 56,
   "id": "002dfefe",
   "metadata": {
    "execution": {
     "iopub.execute_input": "2024-03-07T05:10:19.489441Z",
     "iopub.status.busy": "2024-03-07T05:10:19.489139Z",
     "iopub.status.idle": "2024-03-07T05:10:19.496151Z",
     "shell.execute_reply": "2024-03-07T05:10:19.495378Z"
    },
    "papermill": {
     "duration": 0.050249,
     "end_time": "2024-03-07T05:10:19.498171",
     "exception": false,
     "start_time": "2024-03-07T05:10:19.447922",
     "status": "completed"
    },
    "tags": []
   },
   "outputs": [],
   "source": [
    "class UNetTestDataClass(Dataset):\n",
    "    def __init__(self, images_path, transform):\n",
    "        super(UNetTestDataClass, self).__init__()\n",
    "        \n",
    "        images_list = os.listdir(images_path)\n",
    "        images_list = [images_path+i for i in images_list]\n",
    "        \n",
    "        self.images_list = images_list\n",
    "        self.transform = transform\n",
    "        \n",
    "    def __getitem__(self, index):\n",
    "        img_path = self.images_list[index]\n",
    "        data = Image.open(img_path)\n",
    "        h = data.size[1]\n",
    "        w = data.size[0]\n",
    "        data = self.transform(data) / 255        \n",
    "        return data, img_path, h, w\n",
    "    \n",
    "    def __len__(self):\n",
    "        return len(self.images_list)"
   ]
  },
  {
   "cell_type": "code",
   "execution_count": 57,
   "id": "bcfe945e",
   "metadata": {
    "execution": {
     "iopub.execute_input": "2024-03-07T05:10:19.578695Z",
     "iopub.status.busy": "2024-03-07T05:10:19.578077Z",
     "iopub.status.idle": "2024-03-07T05:10:19.632755Z",
     "shell.execute_reply": "2024-03-07T05:10:19.632048Z"
    },
    "papermill": {
     "duration": 0.097404,
     "end_time": "2024-03-07T05:10:19.634826",
     "exception": false,
     "start_time": "2024-03-07T05:10:19.537422",
     "status": "completed"
    },
    "tags": []
   },
   "outputs": [],
   "source": [
    "path = '/kaggle/input/bkai-igh-neopolyp/test/test/'\n",
    "unet_test_dataset = UNetTestDataClass(path, transform)\n",
    "test_dataloader = DataLoader(unet_test_dataset, batch_size=8, shuffle=True)"
   ]
  },
  {
   "cell_type": "code",
   "execution_count": 58,
   "id": "ee9ff4cc",
   "metadata": {
    "execution": {
     "iopub.execute_input": "2024-03-07T05:10:19.718460Z",
     "iopub.status.busy": "2024-03-07T05:10:19.718116Z",
     "iopub.status.idle": "2024-03-07T05:10:20.016812Z",
     "shell.execute_reply": "2024-03-07T05:10:20.015952Z"
    },
    "papermill": {
     "duration": 0.344006,
     "end_time": "2024-03-07T05:10:20.019228",
     "exception": false,
     "start_time": "2024-03-07T05:10:19.675222",
     "status": "completed"
    },
    "tags": []
   },
   "outputs": [],
   "source": [
    "for i, (data, path, h, w) in enumerate(test_dataloader):\n",
    "    img = data\n",
    "    break"
   ]
  },
  {
   "cell_type": "code",
   "execution_count": 59,
   "id": "774b2c7e",
   "metadata": {
    "execution": {
     "iopub.execute_input": "2024-03-07T05:10:20.101329Z",
     "iopub.status.busy": "2024-03-07T05:10:20.101000Z",
     "iopub.status.idle": "2024-03-07T05:10:22.927732Z",
     "shell.execute_reply": "2024-03-07T05:10:22.926865Z"
    },
    "papermill": {
     "duration": 2.873072,
     "end_time": "2024-03-07T05:10:22.933063",
     "exception": false,
     "start_time": "2024-03-07T05:10:20.059991",
     "status": "completed"
    },
    "tags": []
   },
   "outputs": [
    {
     "data": {
      "image/png": "[encoded data removed]",
      "text/plain": [
       "<Figure size 1600x1200 with 10 Axes>"
      ]
     },
     "metadata": {},
     "output_type": "display_data"
    }
   ],
   "source": [
    "fig, arr = plt.subplots(5, 2, figsize=(16, 12))\n",
    "arr[0][0].set_title('Image');\n",
    "arr[0][1].set_title('Predict');\n",
    "\n",
    "model.eval()\n",
    "with torch.no_grad():\n",
    "    predict = model(img)\n",
    "\n",
    "for i in range(5):\n",
    "    arr[i][0].imshow(img[i].permute(1, 2, 0));\n",
    "    arr[i][1].imshow(F.one_hot(torch.argmax(predict[i], 0).cpu()).float())"
   ]
  },
  {
   "cell_type": "code",
   "execution_count": 60,
   "id": "6b5cd491",
   "metadata": {
    "execution": {
     "iopub.execute_input": "2024-03-07T05:10:23.026273Z",
     "iopub.status.busy": "2024-03-07T05:10:23.025931Z",
     "iopub.status.idle": "2024-03-07T05:10:59.919393Z",
     "shell.execute_reply": "2024-03-07T05:10:59.918255Z"
    },
    "papermill": {
     "duration": 36.943412,
     "end_time": "2024-03-07T05:10:59.922306",
     "exception": false,
     "start_time": "2024-03-07T05:10:22.978894",
     "status": "completed"
    },
    "tags": []
   },
   "outputs": [],
   "source": [
    "model.eval()\n",
    "if not os.path.isdir(\"/kaggle/working/prediction\"):\n",
    "    os.mkdir(\"/kaggle/working/prediction\")\n",
    "for _, (img, path, H, W) in enumerate(test_dataloader):\n",
    "    a = path\n",
    "    b = img\n",
    "    h = H\n",
    "    w = W\n",
    "    \n",
    "    with torch.no_grad():\n",
    "        predicted_mask = model(b)\n",
    "    for i in range(len(a)):\n",
    "        image_id = a[i].split('/')[-1].split('.')[0]\n",
    "        filename = image_id + \".png\"\n",
    "        mask2img = Resize((h[i].item(), w[i].item()), interpolation=InterpolationMode.NEAREST)(ToPILImage()(F.one_hot(torch.argmax(predicted_mask[i], 0)).permute(2, 0, 1).float()))\n",
    "        mask2img.save(os.path.join(\"/kaggle/working/prediction/\", filename))"
   ]
  },
  {
   "cell_type": "code",
   "execution_count": 61,
   "id": "0085d4a2",
   "metadata": {
    "execution": {
     "iopub.execute_input": "2024-03-07T05:11:00.030235Z",
     "iopub.status.busy": "2024-03-07T05:11:00.029841Z",
     "iopub.status.idle": "2024-03-07T05:11:02.991472Z",
     "shell.execute_reply": "2024-03-07T05:11:02.990734Z"
    },
    "papermill": {
     "duration": 3.01724,
     "end_time": "2024-03-07T05:11:02.993485",
     "exception": false,
     "start_time": "2024-03-07T05:10:59.976245",
     "status": "completed"
    },
    "tags": []
   },
   "outputs": [
    {
     "name": "stdout",
     "output_type": "stream",
     "text": [
      "/kaggle/working/prediction/780fd497e1c0e9082ea2c193ac8d551c.png\n",
      "/kaggle/working/prediction/998906d3694abb47953b0e4909384b57.png\n",
      "/kaggle/working/prediction/9632a3c6f7f7fb2a643f15bd0249ddcc.png\n",
      "/kaggle/working/prediction/1002ec4a1fe748f3085f1ce88cbdf366.png\n",
      "/kaggle/working/prediction/4f437f0019f7e6af7d7147763bdfb928.png\n",
      "/kaggle/working/prediction/d6240619ebebe9e9c9d00a4262b4fe4a.png\n",
      "/kaggle/working/prediction/626650908b1cb932a767bf5487ced51b.png\n",
      "/kaggle/working/prediction/2a365b5574868eb60861ee1ff0b8a4f6.png\n",
      "/kaggle/working/prediction/cdf3f33c3ca4d5060a633a8d5b2b2b55.png\n",
      "/kaggle/working/prediction/a9d45c3dbc695325ded465efde988dfb.png\n",
      "/kaggle/working/prediction/80cae6daedd989517cb8041ed86e5822.png\n",
      "/kaggle/working/prediction/a48847ae8395e56a6d9ba9d45c3dbc69.png\n",
      "/kaggle/working/prediction/fe1f119f21b248d152b672ab3492fc62.png\n",
      "/kaggle/working/prediction/2ed9fbb63b28163a745959c03983064a.png\n",
      "/kaggle/working/prediction/97e1c0e9082ea2c193ac8d551c149b60.png\n",
      "/kaggle/working/prediction/dc0bb223c4eaf3372eae567c94ea04c6.png\n",
      "/kaggle/working/prediction/6d3694abb47953b0e4909384b57bb6a0.png\n",
      "/kaggle/working/prediction/c5a0808bee60b246359c68c836f843dc.png\n",
      "/kaggle/working/prediction/71f2fd85a04faeeb2b535797395305af.png\n",
      "/kaggle/working/prediction/c656702fa602bb3c7abacdbd7e6afd56.png\n",
      "/kaggle/working/prediction/c41545ba55aadaa77712a48e11d579d9.png\n",
      "/kaggle/working/prediction/5e8f14e1e0ae936de314f2d95e6c487f.png\n",
      "/kaggle/working/prediction/ad43fe2cd066b9fdbc3bbc04a3afe1f1.png\n",
      "/kaggle/working/prediction/4e2a6e51d077bad31c8c5f54ffaa27a6.png\n",
      "/kaggle/working/prediction/b70dd094a7f32574d6c748c41743c6c0.png\n",
      "/kaggle/working/prediction/3c692195f853af7f8a4df1ec859759b7.png\n",
      "/kaggle/working/prediction/d3694abb47953b0e4909384b57bb6a05.png\n",
      "/kaggle/working/prediction/82ea2c193ac8d551c149b60f2965341c.png\n",
      "/kaggle/working/prediction/5b21960c94b0aab4c024a573c692195f.png\n",
      "/kaggle/working/prediction/285e26c90e1797c77826f9a7021bab9f.png\n",
      "/kaggle/working/prediction/343f27ebc5d92b9076135d76d0bbd4ce.png\n",
      "/kaggle/working/prediction/98da48d679d7c7c8d3d96fb2b87fbbcf.png\n",
      "/kaggle/working/prediction/633a8d5b2b2b55157b7781e2c706c75c.png\n",
      "/kaggle/working/prediction/3c84417fda8019410b1fcf0625f608b4.png\n",
      "/kaggle/working/prediction/1c0e9082ea2c193ac8d551c149b60f29.png\n",
      "/kaggle/working/prediction/936de314f2d95e6c487ffa651b477422.png\n",
      "/kaggle/working/prediction/aeeb2b535797395305af926a6f23c5d6.png\n",
      "/kaggle/working/prediction/4c1711b62f15ec83b97bb11e8e0c4416.png\n",
      "/kaggle/working/prediction/ea42b4eebc9e5a87e443434ac60af150.png\n",
      "/kaggle/working/prediction/4417fda8019410b1fcf0625f608b4ce9.png\n",
      "/kaggle/working/prediction/8954bb13d3727c7e5e1069646f2f0bb8.png\n",
      "/kaggle/working/prediction/67d4dcf9596154efb7cef748d9cbd617.png\n",
      "/kaggle/working/prediction/faef7fdb2d45b21960c94b0aab4c024a.png\n",
      "/kaggle/working/prediction/5beb48f0be11d0309d1dff09b8405734.png\n",
      "/kaggle/working/prediction/a6e51d077bad31c8c5f54ffaa27a6235.png\n",
      "/kaggle/working/prediction/c193ac8d551c149b60f2965341caf528.png\n",
      "/kaggle/working/prediction/be86f03d900fd197cd955fa095f97845.png\n",
      "/kaggle/working/prediction/cc5cfd263f1f90be28799235026b3550.png\n",
      "/kaggle/working/prediction/eb1ef57af2ed9fbb63b28163a745959c.png\n",
      "/kaggle/working/prediction/4ef4d95ceea11957998906d3694abb47.png\n",
      "/kaggle/working/prediction/6679bff55177a34fc01019eec999fd84.png\n",
      "/kaggle/working/prediction/cf6644589e532a9ee954f81faedbce39.png\n",
      "/kaggle/working/prediction/eff05dec1eb3a70b145a7d8d3b6c0ed7.png\n",
      "/kaggle/working/prediction/26679bff55177a34fc01019eec999fd8.png\n",
      "/kaggle/working/prediction/268d4b4ef4d95ceea11957998906d369.png\n",
      "/kaggle/working/prediction/f8e5ad89d2844837f2a0f1536ad3f6a5.png\n",
      "/kaggle/working/prediction/6ad1468996b4a9ce6d840b53a6558038.png\n",
      "/kaggle/working/prediction/13dd311a65d2b46d0a6085835c525af6.png\n",
      "/kaggle/working/prediction/9c7976c1182df0de51d32128c358d1fd.png\n",
      "/kaggle/working/prediction/1531871f2fd85a04faeeb2b535797395.png\n",
      "/kaggle/working/prediction/02fa602bb3c7abacdbd7e6afd56ea7bc.png\n",
      "/kaggle/working/prediction/1ad4f13ccf1f4b331a412fc44655fb51.png\n",
      "/kaggle/working/prediction/5664c1711b62f15ec83b97bb11e8e0c4.png\n",
      "/kaggle/working/prediction/e73749a0d21db70dd094a7f32574d6c7.png\n",
      "/kaggle/working/prediction/7af2ed9fbb63b28163a745959c039830.png\n",
      "/kaggle/working/prediction/4baddc22268d4b4ef4d95ceea1195799.png\n",
      "/kaggle/working/prediction/e8bfb905b78a91391adc0bb223c4eaf3.png\n",
      "/kaggle/working/prediction/6f67b5df7cdf3f33c3ca4d5060a633a8.png\n",
      "/kaggle/working/prediction/0fca6a4248a41e8db8b4ed633b456aaa.png\n",
      "/kaggle/working/prediction/395e56a6d9ba9d45c3dbc695325ded46.png\n",
      "/kaggle/working/prediction/0a0317371a966bf4b3466463a3c64db1.png\n",
      "/kaggle/working/prediction/df8e26031fbb5e52c41545ba55aadaa7.png\n",
      "/kaggle/working/prediction/ca4d5060a633a8d5b2b2b55157b7781e.png\n",
      "/kaggle/working/prediction/ff05dec1eb3a70b145a7d8d3b6c0ed75.png\n",
      "/kaggle/working/prediction/7cb2eb1ef57af2ed9fbb63b28163a745.png\n",
      "/kaggle/working/prediction/425b976973f13dd311a65d2b46d0a608.png\n",
      "/kaggle/working/prediction/eecd70ebce6347c491b37c8c2e5a64a8.png\n",
      "/kaggle/working/prediction/e7998934d417cb2eb1ef57af2ed9fbb6.png\n",
      "/kaggle/working/prediction/72d9e593b6be1ac29adbe86f03d900fd.png\n",
      "/kaggle/working/prediction/e19769fa2d37d32780fd497e1c0e9082.png\n",
      "/kaggle/working/prediction/39dda50f954ba59c7de13a35276a4764.png\n",
      "/kaggle/working/prediction/559c7e610b1531871f2fd85a04faeeb2.png\n",
      "/kaggle/working/prediction/cb2eb1ef57af2ed9fbb63b28163a7459.png\n",
      "/kaggle/working/prediction/625559c7e610b1531871f2fd85a04fae.png\n",
      "/kaggle/working/prediction/7fda8019410b1fcf0625f608b4ce9762.png\n",
      "/kaggle/working/prediction/3657e4314fe384eb2ba3adfda6c1899f.png\n",
      "/kaggle/working/prediction/e56a6d9ba9d45c3dbc695325ded465ef.png\n",
      "/kaggle/working/prediction/391adc0bb223c4eaf3372eae567c94ea.png\n",
      "/kaggle/working/prediction/019410b1fcf0625f608b4ce97629ab55.png\n",
      "/kaggle/working/prediction/3dd311a65d2b46d0a6085835c525af63.png\n",
      "/kaggle/working/prediction/8cbdf366e057db382b8564872a27301a.png\n",
      "/kaggle/working/prediction/30c2f4fc276ed9f178dc2f4af6266509.png\n",
      "/kaggle/working/prediction/0a5f3601ad4f13ccf1f4b331a412fc44.png\n",
      "/kaggle/working/prediction/66e057db382b8564872a27301a654864.png\n",
      "/kaggle/working/prediction/db5eb2a0e4b50889d874c68c030b9afe.png\n",
      "/kaggle/working/prediction/692195f853af7f8a4df1ec859759b7c8.png\n",
      "/kaggle/working/prediction/0398846f67b5df7cdf3f33c3ca4d5060.png\n",
      "/kaggle/working/prediction/f8e26031fbb5e52c41545ba55aadaa77.png\n",
      "/kaggle/working/prediction/6231002ec4a1fe748f3085f1ce88cbdf.png\n",
      "/kaggle/working/prediction/3f33c3ca4d5060a633a8d5b2b2b55157.png\n",
      "/kaggle/working/prediction/1209db6dcdda5cc8a788edaeb6aa460a.png\n",
      "/kaggle/working/prediction/2cd066b9fdbc3bbc04a3afe1f119f21b.png\n",
      "/kaggle/working/prediction/314fe384eb2ba3adfda6c1899fdc9837.png\n",
      "/kaggle/working/prediction/afe1f119f21b248d152b672ab3492fc6.png\n",
      "/kaggle/working/prediction/68d4b4ef4d95ceea11957998906d3694.png\n",
      "/kaggle/working/prediction/60a633a8d5b2b2b55157b7781e2c706c.png\n",
      "/kaggle/working/prediction/c7e610b1531871f2fd85a04faeeb2b53.png\n",
      "/kaggle/working/prediction/7936140a2d5fc1443c4e445927738677.png\n",
      "/kaggle/working/prediction/be4d18d5401f659532897255ce2dd4ae.png\n",
      "/kaggle/working/prediction/77e004e8bfb905b78a91391adc0bb223.png\n",
      "/kaggle/working/prediction/7ad1cf2eb9d32a3dc907950289e976c7.png\n",
      "/kaggle/working/prediction/e1797c77826f9a7021bab9fc73303988.png\n",
      "/kaggle/working/prediction/15fc656702fa602bb3c7abacdbd7e6af.png\n",
      "/kaggle/working/prediction/6b83ef461c2a337948a41964c1d4f50a.png\n",
      "/kaggle/working/prediction/a15fc656702fa602bb3c7abacdbd7e6a.png\n",
      "/kaggle/working/prediction/05734fbeedd0f9da760db74a29abdb04.png\n",
      "/kaggle/working/prediction/cbb2a365b5574868eb60861ee1ff0b8a.png\n",
      "/kaggle/working/prediction/bec33b5e3d68f9d4c331587f9b9d49e2.png\n",
      "/kaggle/working/prediction/710d568df17586ad8f3297c819c90895.png\n",
      "/kaggle/working/prediction/782707d7c359e27888daefee82519763.png\n",
      "/kaggle/working/prediction/e4a17af18f72c8e6166a915669c99390.png\n",
      "/kaggle/working/prediction/d077bad31c8c5f54ffaa27a623511c38.png\n",
      "/kaggle/working/prediction/3b8318ecf467d7ad048df39beb176363.png\n",
      "/kaggle/working/prediction/7f0019f7e6af7d7147763bdfb928d788.png\n",
      "/kaggle/working/prediction/df366e057db382b8564872a27301a654.png\n",
      "/kaggle/working/prediction/dd78294679c9cbb2a365b5574868eb60.png\n",
      "/kaggle/working/prediction/dd094a7f32574d6c748c41743c6c08a1.png\n",
      "/kaggle/working/prediction/4e8bfb905b78a91391adc0bb223c4eaf.png\n",
      "/kaggle/working/prediction/6ddca6ee1af35b65bd9ea42cfcfedb5e.png\n",
      "/kaggle/working/prediction/d694539ef2424a9218697283baa3657e.png\n",
      "/kaggle/working/prediction/c4be73749a0d21db70dd094a7f32574d.png\n",
      "/kaggle/working/prediction/60b246359c68c836f843dcf41f4dce3c.png\n",
      "/kaggle/working/prediction/5a51625559c7e610b1531871f2fd85a0.png\n",
      "/kaggle/working/prediction/27738677a6b1f2c6d40b3bbba8f6c704.png\n",
      "/kaggle/working/prediction/8395e56a6d9ba9d45c3dbc695325ded4.png\n",
      "/kaggle/working/prediction/1db239dda50f954ba59c7de13a35276a.png\n",
      "/kaggle/working/prediction/2d9e593b6be1ac29adbe86f03d900fd1.png\n",
      "/kaggle/working/prediction/f14e1e0ae936de314f2d95e6c487ffa6.png\n",
      "/kaggle/working/prediction/5c1346e62522325c1b9c4fc9cbe1eca1.png\n",
      "/kaggle/working/prediction/4fda8daadc8dd23ae214d84b5dec33fd.png\n",
      "/kaggle/working/prediction/50534bca540e24f489284b8e6953ad88.png\n",
      "/kaggle/working/prediction/a3657e4314fe384eb2ba3adfda6c1899.png\n",
      "/kaggle/working/prediction/0619ebebe9e9c9d00a4262b4fe4a5a95.png\n",
      "/kaggle/working/prediction/f62f215f0da4ad3a7ab8df9da7386835.png\n",
      "/kaggle/working/prediction/b21960c94b0aab4c024a573c692195f8.png\n",
      "/kaggle/working/prediction/fb905b78a91391adc0bb223c4eaf3372.png\n",
      "/kaggle/working/prediction/cb1b387133b51209db6dcdda5cc8a788.png\n",
      "/kaggle/working/prediction/8b8ec74baddc22268d4b4ef4d95ceea1.png\n",
      "/kaggle/working/prediction/3bbc04a3afe1f119f21b248d152b672a.png\n",
      "/kaggle/working/prediction/f7fdb2d45b21960c94b0aab4c024a573.png\n",
      "/kaggle/working/prediction/63b8318ecf467d7ad048df39beb17636.png\n",
      "/kaggle/working/prediction/7f32574d6c748c41743c6c08a1d1ad8f.png\n",
      "/kaggle/working/prediction/45b21960c94b0aab4c024a573c692195.png\n",
      "/kaggle/working/prediction/9fc7330398846f67b5df7cdf3f33c3ca.png\n",
      "/kaggle/working/prediction/e5e8f14e1e0ae936de314f2d95e6c487.png\n",
      "/kaggle/working/prediction/7cdf3f33c3ca4d5060a633a8d5b2b2b5.png\n",
      "/kaggle/working/prediction/05b78a91391adc0bb223c4eaf3372eae.png\n",
      "/kaggle/working/prediction/94a7f32574d6c748c41743c6c08a1d1a.png\n",
      "/kaggle/working/prediction/0af3feff05dec1eb3a70b145a7d8d3b6.png\n",
      "/kaggle/working/prediction/0626ab4ec3d46e602b296cc5cfd263f1.png\n",
      "/kaggle/working/prediction/54ba59c7de13a35276a476420655433a.png\n",
      "/kaggle/working/prediction/39d6aad6bb0170a40ed32deef71fbe08.png\n",
      "/kaggle/working/prediction/3c3ca4d5060a633a8d5b2b2b55157b77.png\n",
      "/kaggle/working/prediction/a6d9ba9d45c3dbc695325ded465efde9.png\n",
      "/kaggle/working/prediction/d5060a633a8d5b2b2b55157b7781e2c7.png\n",
      "/kaggle/working/prediction/80c643782707d7c359e27888daefee82.png\n",
      "/kaggle/working/prediction/41ed86e58224cb76a67d4dcf9596154e.png\n",
      "/kaggle/working/prediction/3425b976973f13dd311a65d2b46d0a60.png\n",
      "/kaggle/working/prediction/fdbc3bbc04a3afe1f119f21b248d152b.png\n",
      "/kaggle/working/prediction/e9082ea2c193ac8d551c149b60f29653.png\n",
      "/kaggle/working/prediction/aafac813fe3ccba3e032dd2948a80c64.png\n",
      "/kaggle/working/prediction/cf464aa36bf7c09a3bb0e5ca159410b9.png\n",
      "/kaggle/working/prediction/5026b3550534bca540e24f489284b8e6.png\n",
      "/kaggle/working/prediction/e1e0ae936de314f2d95e6c487ffa651b.png\n",
      "/kaggle/working/prediction/85a04faeeb2b535797395305af926a6f.png\n",
      "/kaggle/working/prediction/87133b51209db6dcdda5cc8a788edaeb.png\n",
      "/kaggle/working/prediction/7b5df7cdf3f33c3ca4d5060a633a8d5b.png\n",
      "/kaggle/working/prediction/6f4d4987ea3b4bae5672a230194c5a08.png\n",
      "/kaggle/working/prediction/dc70626ab4ec3d46e602b296cc5cfd26.png\n",
      "/kaggle/working/prediction/677a6b1f2c6d40b3bbba8f6c704801b3.png\n",
      "/kaggle/working/prediction/6240619ebebe9e9c9d00a4262b4fe4a5.png\n",
      "/kaggle/working/prediction/a6a4248a41e8db8b4ed633b456aaafac.png\n",
      "/kaggle/working/prediction/8eb5a9a8a8d7fcc9df8e5ad89d284483.png\n",
      "/kaggle/working/prediction/1b62f15ec83b97bb11e8e0c4416c1931.png\n",
      "/kaggle/working/prediction/318ecf467d7ad048df39beb176363408.png\n",
      "/kaggle/working/prediction/ff55177a34fc01019eec999fd84e679b.png\n",
      "/kaggle/working/prediction/e3c84417fda8019410b1fcf0625f608b.png\n",
      "/kaggle/working/prediction/4ca6160127cd1d5ff99c267599fc487b.png\n",
      "/kaggle/working/prediction/c695325ded465efde988dfb96d081533.png\n",
      "/kaggle/working/prediction/d6bf62f215f0da4ad3a7ab8df9da7386.png\n",
      "/kaggle/working/prediction/461c2a337948a41964c1d4f50a5f3601.png\n",
      "/kaggle/working/prediction/8fa8625605da2023387fd56c04414eaa.png\n",
      "/kaggle/working/prediction/f13dd311a65d2b46d0a6085835c525af.png\n",
      "/kaggle/working/prediction/af35b65bd9ea42cfcfedb5eb2a0e4b50.png\n",
      "/kaggle/working/prediction/e2cd066b9fdbc3bbc04a3afe1f119f21.png\n",
      "/kaggle/working/prediction/a51625559c7e610b1531871f2fd85a04.png\n",
      "/kaggle/working/prediction/fcd6da15fc656702fa602bb3c7abacdb.png\n",
      "/kaggle/working/prediction/88e16d4ca6160127cd1d5ff99c267599.png\n",
      "/kaggle/working/prediction/7330398846f67b5df7cdf3f33c3ca4d5.png\n",
      "/kaggle/working/prediction/c22268d4b4ef4d95ceea11957998906d.png\n"
     ]
    }
   ],
   "source": [
    "def rle_to_string(runs):\n",
    "    return ' '.join(str(x) for x in runs)\n",
    "\n",
    "def rle_encode_one_mask(mask):\n",
    "    pixels = mask.flatten()\n",
    "    pixels[pixels > 0] = 255\n",
    "    use_padding = False\n",
    "    if pixels[0] or pixels[-1]:\n",
    "        use_padding = True\n",
    "        pixel_padded = np.zeros([len(pixels) + 2], dtype=pixels.dtype)\n",
    "        pixel_padded[1:-1] = pixels\n",
    "        pixels = pixel_padded\n",
    "    \n",
    "    rle = np.where(pixels[1:] != pixels[:-1])[0] + 2\n",
    "    if use_padding:\n",
    "        rle = rle - 1\n",
    "    rle[1::2] = rle[1::2] - rle[:-1:2]\n",
    "    return rle_to_string(rle)\n",
    "\n",
    "def mask2string(dir):\n",
    "    ## mask --> string\n",
    "    strings = []\n",
    "    ids = []\n",
    "    ws, hs = [[] for i in range(2)]\n",
    "    for image_id in os.listdir(dir):\n",
    "        id = image_id.split('.')[0]\n",
    "        path = os.path.join(dir, image_id)\n",
    "        print(path)\n",
    "        img = cv2.imread(path)[:,:,::-1]\n",
    "        h, w = img.shape[0], img.shape[1]\n",
    "        for channel in range(2):\n",
    "            ws.append(w)\n",
    "            hs.append(h)\n",
    "            ids.append(f'{id}_{channel}')\n",
    "            string = rle_encode_one_mask(img[:,:,channel])\n",
    "            strings.append(string)\n",
    "    r = {\n",
    "        'ids': ids,\n",
    "        'strings': strings,\n",
    "    }\n",
    "    return r\n",
    "\n",
    "\n",
    "MASK_DIR_PATH = '/kaggle/working/prediction' # change this to the path to your output mask folder\n",
    "dir = MASK_DIR_PATH\n",
    "res = mask2string(dir)\n",
    "df = pd.DataFrame(columns=['Id', 'Expected'])\n",
    "df['Id'] = res['ids']\n",
    "df['Expected'] = res['strings']\n",
    "df.to_csv(r'output.csv', index=False)"
   ]
  },
  {
   "cell_type": "code",
   "execution_count": null,
   "id": "8e6bf954",
   "metadata": {
    "papermill": {
     "duration": 0.046414,
     "end_time": "2024-03-07T05:11:03.086631",
     "exception": false,
     "start_time": "2024-03-07T05:11:03.040217",
     "status": "completed"
    },
    "tags": []
   },
   "outputs": [],
   "source": []
  }
 ],
 "metadata": {
  "kaggle": {
   "accelerator": "gpu",
   "dataSources": [
    {
     "databundleVersionId": 2715462,
     "sourceId": 30892,
     "sourceType": "competition"
    }
   ],
   "dockerImageVersionId": 30588,
   "isGpuEnabled": true,
   "isInternetEnabled": true,
   "language": "python",
   "sourceType": "notebook"
  },
  "kernelspec": {
   "display_name": "Python 3",
   "language": "python",
   "name": "python3"
  },
  "language_info": {
   "codemirror_mode": {
    "name": "ipython",
    "version": 3
   },
   "file_extension": ".py",
   "mimetype": "text/x-python",
   "name": "python",
   "nbconvert_exporter": "python",
   "pygments_lexer": "ipython3",
   "version": "3.10.12"
  },
  "papermill": {
   "default_parameters": {},
   "duration": 3622.127005,
   "end_time": "2024-03-07T05:11:05.866097",
   "environment_variables": {},
   "exception": null,
   "input_path": "__notebook__.ipynb",
   "output_path": "__notebook__.ipynb",
   "parameters": {},
   "start_time": "2024-03-07T04:10:43.739092",
   "version": "2.4.0"
  }
 },
 "nbformat": 4,
 "nbformat_minor": 5
}
